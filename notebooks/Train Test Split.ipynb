{
 "cells": [
  {
   "cell_type": "code",
   "execution_count": 1,
   "id": "a9bfaab8",
   "metadata": {},
   "outputs": [
    {
     "name": "stdout",
     "output_type": "stream",
     "text": [
      "lookup_file: /home/samuel.varga/python_packages/WoF_post/wofs/data/psadilookup.dat\n"
     ]
    }
   ],
   "source": [
    "# Import packages \n",
    "import pandas as pd\n",
    "import numpy as np\n",
    "import netCDF4\n",
    "import h5netcdf\n",
    "import xarray as xr\n",
    "from os.path import join, exists\n",
    "import joblib\n",
    "from glob import glob\n",
    "import datetime as dt\n",
    "import sys, os\n",
    "import pyresample\n",
    "import itertools\n",
    "from pathlib import Path\n",
    "import pickle\n",
    "\n",
    "#Filters\n",
    "from scipy.ndimage import uniform_filter, maximum_filter, gaussian_filter\n",
    "\n",
    "#Custom Packages\n",
    "sys.path.append('/home/samuel.varga/python_packages/WoF_post') #WoF post package\n",
    "sys.path.append('/home/samuel.varga/python_packages/wofs_ml_severe/')\n",
    "sys.path.append('/home/samuel.varga/python_packages/MontePython/')\n",
    "sys.path.append('/home/samuel.varga/projects/deep_learning/')\n",
    "\n",
    "from wofs.post.utils import (\n",
    "    save_dataset,\n",
    "    load_multiple_nc_files,\n",
    ")\n",
    "from main.dl_2to6_data_pipeline import get_files, load_dataset\n",
    "from collections import ChainMap\n"
   ]
  },
  {
   "cell_type": "code",
   "execution_count": 2,
   "id": "dc31942a",
   "metadata": {},
   "outputs": [],
   "source": [
    "#Get list of Patch files - convert cases to datetime\n",
    "path_base = f'/work/samuel.varga/data/2to6_hr_severe_wx/DEEP_LEARNING/SummaryFiles/'\n",
    "file_base = f'wofs_DL2TO6_16_16_data.feather'\n",
    "meta_file_base = f'wofs_DL2TO6_16_16_meta.feather'\n",
    "out_path = '/work/samuel.varga/data/2to6_hr_severe_wx/DEEP_LEARNING/'"
   ]
  },
  {
   "cell_type": "code",
   "execution_count": 3,
   "id": "40893fdb",
   "metadata": {},
   "outputs": [
    {
     "name": "stdout",
     "output_type": "stream",
     "text": [
      "/work/samuel.varga/data/2to6_hr_severe_wx/DEEP_LEARNING/SummaryFiles/20200518/1800\n",
      "Num Total Paths: 1154 \n"
     ]
    }
   ],
   "source": [
    "dates=[d for d in os.listdir(path_base) if '.txt' not in d]\n",
    "\n",
    "paths=[] #Valid paths for worker function\n",
    "bad_paths=[]\n",
    "for d in dates:\n",
    "    if d[4:6] !='05': \n",
    "        continue\n",
    "\n",
    "    times = [t for t in os.listdir(join(path_base, d)) if 'basemap' not in t] #Init time\n",
    "\n",
    "    for t in times:\n",
    "        path = join(path_base, d , t)\n",
    "        if exists(join(path,file_base)):\n",
    "            paths.append(path)\n",
    "print(paths[0])\n",
    "print(f'Num Total Paths: {len(paths)} ')"
   ]
  },
  {
   "cell_type": "code",
   "execution_count": 4,
   "id": "dd95296d",
   "metadata": {},
   "outputs": [
    {
     "name": "stdout",
     "output_type": "stream",
     "text": [
      "Bad path found - MRMS DZ Values exceed expected range\n",
      "Bad path found - Missing Data\n",
      "Bad path found - Missing Data\n",
      "Bad path found - Missing Data\n",
      "Bad path found - Missing Data\n",
      "Bad path found - Missing Data\n",
      "Bad path found - Missing Data\n",
      "Bad path found - Missing Data\n",
      "Bad path found - Missing Data\n",
      "Bad path found - Missing Data\n",
      "Bad path found - Missing Data\n",
      "Bad path found - Missing Data\n",
      "Bad path found - Missing Data\n",
      "Bad path found - Missing Data\n",
      "Bad path found - Missing Data\n",
      "Bad path found - Missing Data\n",
      "Bad path found - Missing Data\n",
      "Bad path found - Missing Data\n",
      "Bad path found - Missing Data\n",
      "Bad path found - Missing Data\n",
      "Bad path found - Missing Data\n",
      "Bad path found - Missing Data\n",
      "Bad path found - Missing Data\n",
      "Bad path found - Missing Data\n",
      "Bad path found - Missing Data\n",
      "Num Paths w/ usable data: 1129\n"
     ]
    }
   ],
   "source": [
    "#Check files to see where bad MRMS data, drop cases from list of files\n",
    "for path in paths:\n",
    "    ds = xr.load_dataset(join(join(path_base, path), file_base))\n",
    "    if np.any(ds['MESH_severe__4km'].values<0) or np.any(ds['MRMS_DZ'].values<0):\n",
    "        print('Bad path found - Missing Data')\n",
    "        bad_paths.append(path)\n",
    "        paths.remove(path)\n",
    "    elif np.any(ds['MRMS_DZ'].values > 10**35):\n",
    "        print('Bad path found - MRMS DZ Values exceed expected range')\n",
    "        bad_paths.append(path)\n",
    "        paths.remove(path)\n",
    "    ds.close()\n",
    "print(f'Num Paths w/ usable data: {len(paths)}') "
   ]
  },
  {
   "cell_type": "code",
   "execution_count": 11,
   "id": "15c58712",
   "metadata": {},
   "outputs": [
    {
     "name": "stdout",
     "output_type": "stream",
     "text": [
      "Training Dates:\n",
      "['20220527' '20220531' '20210512' '20210520' '20230523' '20220506'\n",
      " '20200528' '20190502' '20230516' '20200521' '20190530' '20210510'\n",
      " '20220529' '20220518' '20190518' '20230524' '20210527' '20230518'\n",
      " '20230512' '20200504' '20230521' '20210517' '20230503' '20200518'\n",
      " '20210519' '20220520' '20190501' '20200526' '20210514' '20200527'\n",
      " '20210524' '20230530' '20190514' '20200519' '20200522' '20220502'\n",
      " '20200505' '20230504' '20220525' '20230502' '20210525' '20210521'\n",
      " '20230511' '20230517' '20220524' '20220509' '20190526' '20210507'\n",
      " '20220513' '20210504' '20200515' '20190523' '20190506' '20210528'\n",
      " '20190515' '20190520' '20210503' '20190529' '20230505' '20220510'\n",
      " '20200507' '20190513' '20220503' '20220512' '20210523' '20200508'\n",
      " '20190521' '20210518' '20230526' '20190516' '20200506' '20230510'\n",
      " '20200520' '20220511' '20220519']\n",
      "Testing Dates:\n",
      "['20210505' '20230501' '20220526' '20220516' '20190510' '20220530'\n",
      " '20230531' '20210506' '20220504' '20220528' '20190524' '20230509'\n",
      " '20210513' '20220505' '20220517' '20190525' '20230508' '20230515'\n",
      " '20190507' '20190517' '20190509' '20190508' '20200501' '20200513'\n",
      " '20190528' '20190522' '20230525' '20220523' '20230519' '20210526'\n",
      " '20200529' '20190503' '20230522']\n"
     ]
    }
   ],
   "source": [
    "#Convert remaining files into train/validation/test based on day\n",
    "temp_paths=[path.split('/')[-2][0:8]+path.split('/')[-1] for path in paths] #Different domains on the same day are treated as identical for the purposes of T/T split\n",
    "dates=[pd.to_datetime(path, format=f'%Y%m%d%H%M') for path in temp_paths]\n",
    "\n",
    "#Split into train/test\n",
    "from sklearn.model_selection import KFold as kfold, train_test_split\n",
    "import random\n",
    "\n",
    "all_dates = np.unique([date.strftime('%Y%m%d') for date in dates])\n",
    "random.Random(42).shuffle(all_dates)\n",
    "train_dates, test_dates = train_test_split(all_dates, test_size=0.3)\n",
    "print('Training Dates:')\n",
    "print(train_dates)\n",
    "\n",
    "print('Testing Dates:')\n",
    "print(test_dates)\n",
    "\n",
    "#Split training set into 5 folds\n",
    "train_folds = kfold(n_splits = 5, random_state=42, shuffle=True).split(train_dates)\n",
    "\n",
    "with open(f'/work/samuel.varga/data/dates_split_deep_learning.pkl', 'wb') as date_file:\n",
    "    pickle.dump({'train_dates':train_dates,'test_dates':test_dates}, date_file)"
   ]
  },
  {
   "cell_type": "code",
   "execution_count": 6,
   "id": "154ee3e6",
   "metadata": {},
   "outputs": [
    {
     "name": "stdout",
     "output_type": "stream",
     "text": [
      "Rotation: 0\n",
      "[ 1  2  3  5  6  7  8 11 13 14 15 16 17 19 20 21 22 23 24 25 26 27 29 30\n",
      " 31 32 33 36 37 38 39 40 41 43 44 45 46 47 48 50 51 52 53 54 55 56 57 58\n",
      " 59 60 62 65 66 67 68 70 71 72 73 74] [ 0  4  9 10 12 18 28 34 35 42 49 61 63 64 69]\n",
      "638\n",
      "153\n",
      "Rotation: 1\n",
      "[ 0  1  2  3  4  6  8  9 10 11 12 13 14 15 17 18 19 20 21 23 24 25 26 27\n",
      " 28 29 32 34 35 36 37 38 41 42 43 46 48 49 50 51 52 53 54 55 57 59 60 61\n",
      " 62 63 64 65 67 68 69 70 71 72 73 74] [ 5  7 16 22 30 31 33 39 40 44 45 47 56 58 66]\n",
      "639\n",
      "152\n",
      "Rotation: 2\n",
      "[ 0  1  2  4  5  7  9 10 11 12 14 15 16 18 20 21 22 23 24 26 27 28 29 30\n",
      " 31 32 33 34 35 37 39 40 41 42 43 44 45 46 47 48 49 51 52 55 56 57 58 59\n",
      " 60 61 63 64 65 66 67 68 69 70 71 73] [ 3  6  8 13 17 19 25 36 38 50 53 54 62 72 74]\n",
      "640\n",
      "151\n",
      "Rotation: 3\n",
      "[ 0  1  2  3  4  5  6  7  8  9 10 12 13 14 16 17 18 19 20 21 22 23 25 28\n",
      " 29 30 31 33 34 35 36 37 38 39 40 42 44 45 47 49 50 51 52 53 54 56 58 59\n",
      " 60 61 62 63 64 65 66 69 70 71 72 74] [11 15 24 26 27 32 41 43 46 48 55 57 67 68 73]\n",
      "613\n",
      "178\n",
      "Rotation: 4\n",
      "[ 0  3  4  5  6  7  8  9 10 11 12 13 15 16 17 18 19 22 24 25 26 27 28 30\n",
      " 31 32 33 34 35 36 38 39 40 41 42 43 44 45 46 47 48 49 50 53 54 55 56 57\n",
      " 58 61 62 63 64 66 67 68 69 72 73 74] [ 1  2 14 20 21 23 29 37 51 52 59 60 65 70 71]\n",
      "634\n",
      "157\n"
     ]
    }
   ],
   "source": [
    "for i, (train_index, val_index) in enumerate(train_folds):\n",
    "    print(f'Rotation: {i}')\n",
    "    print(train_index, val_index)\n",
    "    print(len(list(np.array(paths)[np.isin(np.array([date.strftime('%Y%m%d') for date in dates]), train_dates[train_index])])))\n",
    "    print(len(list(np.array(paths)[np.isin(np.array([date.strftime('%Y%m%d') for date in dates]), train_dates[val_index])])))"
   ]
  },
  {
   "cell_type": "code",
   "execution_count": 7,
   "id": "ab880e0b",
   "metadata": {},
   "outputs": [],
   "source": [
    "def format_metadata(meta_data_list):\n",
    "    '''Reformats the metadata to appease the duplicate index errors.'''\n",
    "    '''Args: meta_data_list: list of opened datasets'''\n",
    "    meta = {}\n",
    "    for v in meta_data_list[0].variables:\n",
    "        #print(v)\n",
    "        if v in ['run_date','init_time','patch_no']:\n",
    "            meta[v] = np.append(np.array([]), [ x[v].values for x in meta_data_list])\n",
    "        else:\n",
    "            meta[v] = (['patch','NY_ind','NX_ind'],np.reshape(np.append(np.array([]), [x[v].values for x in meta_data_list]), (10*len(meta_data_list),16,16)))\n",
    "        #print(np.shape(meta[v]))\n",
    "\n",
    "    #Open NC file, add vars, save\n",
    "    meta_ds = xr.Dataset(meta)\n",
    "    return meta_ds"
   ]
  },
  {
   "cell_type": "code",
   "execution_count": 8,
   "id": "d270d472",
   "metadata": {},
   "outputs": [],
   "source": [
    "def save_rotation_nc(rot_num, train_ind, val_ind, unique_dates, path_list, date_list, out_path=out_path):\n",
    "    '''rot_num: int - rotation number\n",
    "        train_ind: list - list of indices for training folds - indices correspond to day in training_dates\n",
    "        val_ind: list - list of indices for validation folds - indices correspond to day in training_dates\n",
    "        unique_dates: list - list of unique dates in training set\n",
    "        path_list: list - list of file paths of length N that contain directory info and init time\n",
    "        date_list: list - list of dates of length N, with each date being YYYYmmdd for the corresponding path in path_list\n",
    "    '''\n",
    "    #Get list of paths for current rotation\n",
    "    training_paths=list(np.array(path_list)[np.isin(np.array([date.strftime('%Y%m%d') for date in date_list]), unique_dates[train_ind])])\n",
    "    validation_paths=list(np.array(path_list)[np.isin(np.array([date.strftime('%Y%m%d') for date in date_list]), unique_dates[val_ind])])\n",
    "    \n",
    "    #Add the filename to each of the paths\n",
    "    print('Appending Filenames')\n",
    "    training_file_paths = [join(path, file_base) for path in training_paths[:10]]\n",
    "    training_meta_paths=[join(path, meta_file_base) for path in training_paths[:10]]\n",
    "    validation_file_paths = [join(path, file_base) for path in validation_paths[:10]]\n",
    "    validation_meta_paths=[join(path, meta_file_base) for path in validation_paths[:10]]\n",
    "    \n",
    "    \n",
    "    #Create Training Data\n",
    "    print(f'Saving training data for Rot {rot_num}')\n",
    "    ds = [xr.open_dataset(f) for f in training_file_paths]\n",
    "    ds = xr.concat(ds, dim='patch_no')\n",
    "\n",
    "    #Save mean/variance for use in scaling \n",
    "    mean = np.array([np.nanmean(ds[v]) for v in ds.variables if 'severe' not in v])\n",
    "    var = np.array([np.nanvar(ds[v]) for v in ds.variables if 'severe' not in v])\n",
    "    #with open(f'/work/samuel.varga/data/2to6_hr_severe_wx/DEEP_LEARNING/scaling/rot_{rot_num}_scaling.pkl', 'wb') as scale_file:\n",
    "    #    pickle.dump({'mean':mean,'var':var}, scale_file)\n",
    "    \n",
    "    #ds.to_netcdf(join(out_path, f'wofs_dl_severe__2to6hr__rot_{rot_num}__training_data'))\n",
    "    ds.close()\n",
    "    \n",
    "    print(f'Saving metadata for Rot {rot_num}')\n",
    "    meta_ds = [xr.open_dataset(f) for f in training_meta_paths]\n",
    "    meta_ds = format_metadata(meta_ds)\n",
    "    #meta_ds.to_netcdf(join(out_path, f'wofs_dl_severe__2to6hr__rot_{rot_num}__training_meta'))\n",
    "    meta_ds.close()\n",
    "    \n",
    "    #Create validation data\n",
    "    print(f'Saving validation data for Rot {rot_num}')\n",
    "    ds = [xr.open_dataset(f) for f in validation_file_paths]\n",
    "    ds = xr.concat(ds, dim='patch_no')\n",
    "    #ds.to_netcdf(join(out_path, f'wofs_dl_severe__2to6hr__rot_{rot_num}__validation_data'))\n",
    "    ds.close()\n",
    "    \n",
    "    print(f'Saving metadata for Rot {rot_num}')\n",
    "    meta_ds = [xr.open_dataset(f) for f in validation_meta_paths]\n",
    "    meta_ds = format_metadata(meta_ds)\n",
    "    #meta_ds.to_netcdf(join(out_path, f'wofs_dl_severe__2to6hr__rot_{rot_num}__validation_meta'))\n",
    "    meta_ds.close()\n",
    "                          \n",
    "    return None"
   ]
  },
  {
   "cell_type": "code",
   "execution_count": 12,
   "id": "04a8052b",
   "metadata": {},
   "outputs": [
    {
     "name": "stdout",
     "output_type": "stream",
     "text": [
      "Appending Filenames\n",
      "Saving training data for Rot 0\n",
      "Saving metadata for Rot 0\n",
      "Saving validation data for Rot 0\n",
      "Saving metadata for Rot 0\n",
      "Appending Filenames\n",
      "Saving training data for Rot 1\n",
      "Saving metadata for Rot 1\n",
      "Saving validation data for Rot 1\n",
      "Saving metadata for Rot 1\n",
      "Appending Filenames\n",
      "Saving training data for Rot 2\n",
      "Saving metadata for Rot 2\n",
      "Saving validation data for Rot 2\n",
      "Saving metadata for Rot 2\n",
      "Appending Filenames\n",
      "Saving training data for Rot 3\n",
      "Saving metadata for Rot 3\n",
      "Saving validation data for Rot 3\n",
      "Saving metadata for Rot 3\n",
      "Appending Filenames\n",
      "Saving training data for Rot 4\n",
      "Saving metadata for Rot 4\n",
      "Saving validation data for Rot 4\n",
      "Saving metadata for Rot 4\n"
     ]
    }
   ],
   "source": [
    "#Save training folds:\n",
    "for i, (train_ind, val_ind) in enumerate(train_folds):\n",
    "    d = save_rotation_nc(i, train_ind, val_ind, train_dates, paths, dates)"
   ]
  },
  {
   "cell_type": "code",
   "execution_count": 13,
   "id": "fcbedd2a",
   "metadata": {},
   "outputs": [
    {
     "name": "stdout",
     "output_type": "stream",
     "text": [
      "Saving testing data\n",
      "Saving testing metadata\n"
     ]
    }
   ],
   "source": [
    "#Save testing set\n",
    "testing_paths=list(np.array(paths)[np.isin(np.array([date.strftime('%Y%m%d') for date in dates]), test_dates)])\n",
    "testing_file_paths = [join(path, file_base) for path in testing_paths[:10]]\n",
    "testing_meta_paths=[join(path, meta_file_base) for path in testing_paths[:10]]\n",
    "\n",
    "\n",
    "print(f'Saving testing data')\n",
    "ds = [xr.open_dataset(f) for f in testing_file_paths]\n",
    "ds = xr.concat(ds, dim='patch_no')\n",
    "#ds.to_netcdf(join(out_path, f'wofs_dl_severe__2to6hr__testing_data'))\n",
    "ds.close()\n",
    "    \n",
    "print(f'Saving testing metadata')\n",
    "meta_ds = [xr.open_dataset(f) for f in testing_meta_paths]\n",
    "meta_ds = format_metadata(meta_ds)\n",
    "#meta_ds.to_netcdf(join(out_path, f'wofs_dl_severe__2to6hr__testing_meta'))\n",
    "meta_ds.close()"
   ]
  },
  {
   "cell_type": "code",
   "execution_count": null,
   "id": "fa8048f1",
   "metadata": {},
   "outputs": [],
   "source": []
  }
 ],
 "metadata": {
  "kernelspec": {
   "display_name": "Vanilla",
   "language": "python",
   "name": "vanilla"
  },
  "language_info": {
   "codemirror_mode": {
    "name": "ipython",
    "version": 3
   },
   "file_extension": ".py",
   "mimetype": "text/x-python",
   "name": "python",
   "nbconvert_exporter": "python",
   "pygments_lexer": "ipython3",
   "version": "3.10.5"
  }
 },
 "nbformat": 4,
 "nbformat_minor": 5
}
