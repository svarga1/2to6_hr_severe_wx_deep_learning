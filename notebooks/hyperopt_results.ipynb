{
 "cells": [
  {
   "cell_type": "code",
   "execution_count": 1,
   "id": "12bfbe36",
   "metadata": {},
   "outputs": [],
   "source": [
    "import numpy as np\n",
    "from itertools import product\n",
    "import sys\n",
    "sys.path.append('/home/samuel.varga/projects/deep_learning/')\n",
    "from deep_learning.training_utils import read_rotation_results, load_hp_opt_results"
   ]
  },
  {
   "cell_type": "code",
   "execution_count": 2,
   "id": "c0f27af6",
   "metadata": {},
   "outputs": [],
   "source": [
    "results_dir = '/work/samuel.varga/projects/2to6_hr_severe_wx/DEEP_LEARNING/results/'\n",
    "target_column = 'any_severe__36km'"
   ]
  },
  {
   "cell_type": "code",
   "execution_count": 3,
   "id": "d171fc77",
   "metadata": {},
   "outputs": [],
   "source": [
    "combo_list = []\n",
    "for p_s, lrate, cs, i, loss in product([0.01, 0.1, 0.25], [0.0001, 0.001, 0.01, 0.1], ([2,1,2,1],[2,2,2,2],[2,3,2,3],[4,3,2,2]), (1,2,3,4), ['binary_crossentropy']):\n",
    "    #U-net architectural parameters\n",
    "    conv_filters=[n*i for n in [32,64,128,256]]\n",
    "    max_pool=[2,2,2,2]\n",
    "    conv_layers =[{'filters': f, 'kernel_size': (s), 'pool_size': (p), 'strides': (p)} if p > 1\n",
    "                       else {'filters': f, 'kernel_size': (s), 'pool_size': None, 'strides': None}\n",
    "                       for s, f, p, in zip(cs, conv_filters, max_pool)]\n",
    "    args={'lrate':lrate, 'loss':loss,'activation_conv':'relu','activation_out':'sigmoid',\n",
    "         'p_spatial_dropout':p_s, 'filters':conv_filters, 'size':cs, 'pool':max_pool, 'shape':(16,16), 'target_column':target_column, 'i':i}\n",
    "    fbase = f\"{args['target_column']}_Rot_*_{args['shape'][0]}_{args['shape'][1]}_lrate_{args['lrate']}_spatial_dropout_{args['p_spatial_dropout']}_i_{args['i']}_filters_{args['filters']}_size_{args['size']}_pool_{args['pool']}_loss_{args['loss']}_results.pkl\"\n",
    "    combo_list.append(fbase)\n",
    "    "
   ]
  },
  {
   "cell_type": "code",
   "execution_count": 4,
   "id": "ea507723",
   "metadata": {},
   "outputs": [],
   "source": [
    "results = load_hp_opt_results(results_dir, combo_list)"
   ]
  },
  {
   "cell_type": "code",
   "execution_count": 23,
   "id": "3e8faf4d",
   "metadata": {},
   "outputs": [
    {
     "name": "stderr",
     "output_type": "stream",
     "text": [
      "/tmp/ipykernel_1389192/3086440905.py:4: RuntimeWarning: Mean of empty slice\n",
      "  mean = {k : np.nanmean([z[k] for z in temp], axis=0) for k in temp[0].keys()}\n"
     ]
    }
   ],
   "source": [
    "hp_results={}\n",
    "for k in results.keys():\n",
    "    temp = [x['predict_val_eval'] for x in results[k]]\n",
    "    mean = {k : np.nanmean([z[k] for z in temp], axis=0) for k in temp[0].keys()}\n",
    "    std = {k : np.nanstd([z[k] for z in temp], axis=0) for k in temp[0].keys()}\n",
    "    hp_results[k] = {'mean':mean, 'std':std}"
   ]
  },
  {
   "cell_type": "code",
   "execution_count": 41,
   "id": "9efde81b",
   "metadata": {},
   "outputs": [
    {
     "name": "stdout",
     "output_type": "stream",
     "text": [
      "loss\n",
      "Max value at Loc. 51: 0.23874521255493164\n",
      "Min value at Loc. 81: 0.14839475005865096\n",
      "Mean value: 0.17214585713911473\n",
      "sparse_categorical_accuracy\n",
      "Max value at Loc. 0: 0.9427213430404663\n",
      "Min value at Loc. 0: 0.9427213430404663\n",
      "Mean value: 0.9427213430404661\n",
      "Brier score\n",
      "Max value at Loc. 51: 0.06016220524907112\n",
      "Min value at Loc. 57: 0.03960905596613884\n",
      "Mean value: 0.04627631571339934\n",
      "auc\n",
      "Max value at Loc. 153: 0.9039740681648254\n",
      "Min value at Loc. 111: 0.4946383714675903\n",
      "Mean value: 0.7504971976081531\n",
      "prc\n",
      "Max value at Loc. 142: 0.409456342458725\n",
      "Min value at Loc. 111: 0.05642695352435112\n",
      "Mean value: 0.26010108756211897\n",
      "FN\n",
      "Max value at Loc. 44: 23025.2\n",
      "Min value at Loc. 128: 4692.4\n",
      "Mean value: 12902.757291666669\n",
      "FP\n",
      "Max value at Loc. 128: 63363.4\n",
      "Min value at Loc. 44: 0.0\n",
      "Mean value: 26263.879166666666\n",
      "MAE\n",
      "Max value at Loc. 46: 0.1320781320333481\n",
      "Min value at Loc. 2: 0.08103374913334846\n",
      "Mean value: 0.09519293502365288\n",
      "TN\n",
      "Max value at Loc. 44: 380430.8\n",
      "Min value at Loc. 128: 317067.4\n",
      "Mean value: 354166.92083333334\n",
      "TP\n",
      "Max value at Loc. 128: 18332.8\n",
      "Min value at Loc. 44: 0.0\n",
      "Mean value: 10122.442708333334\n",
      "bss\n",
      "Max value at Loc. 57: 0.9603909254074097\n",
      "Min value at Loc. 51: 0.9398378133773804\n",
      "Mean value: 0.9537236838661439\n",
      "csi\n",
      "Max value at Loc. 67: 0.1762111932039261\n",
      "Min value at Loc. 57: 0.023155249655246735\n",
      "Mean value: 0.1197563329128799\n"
     ]
    }
   ],
   "source": [
    "mean_hp = {k: hp_results[k]['mean'] for k in hp_results}\n",
    "\n",
    "for metric in mean_hp[list(mean_hp.keys())[0]]:\n",
    "    print(metric)\n",
    "    Max = np.nanmax([mean_hp[k][metric] for k in mean_hp.keys()])\n",
    "    Max_ind = np.nanargmax([mean_hp[k][metric] for k in mean_hp.keys()])\n",
    "    Mean = np.nanmean([mean_hp[k][metric] for k in mean_hp.keys()])\n",
    "    Min = np.nanmin([mean_hp[k][metric] for k in mean_hp.keys()])\n",
    "    Min_ind = np.nanargmin([mean_hp[k][metric] for k in mean_hp.keys()])\n",
    "    print(f'Max value at Loc. {Max_ind}: {Max}')\n",
    "    print(f'Min value at Loc. {Min_ind}: {Min}')\n",
    "    print(f'Mean value: {Mean}')"
   ]
  },
  {
   "cell_type": "code",
   "execution_count": 44,
   "id": "2c9b3f4e",
   "metadata": {},
   "outputs": [
    {
     "data": {
      "text/plain": [
       "'any_severe__36km_Rot_*_16_16_lrate_0.001_spatial_dropout_0.25_i_2_filters_[64, 128, 256, 512]_size_[2, 3, 2, 3]_pool_[2, 2, 2, 2]_loss_binary_crossentropy_results.pkl'"
      ]
     },
     "execution_count": 44,
     "metadata": {},
     "output_type": "execute_result"
    }
   ],
   "source": [
    "list(mean_hp.keys())[153]"
   ]
  },
  {
   "cell_type": "code",
   "execution_count": 43,
   "id": "1c9147a8",
   "metadata": {},
   "outputs": [
    {
     "data": {
      "text/plain": [
       "{'loss': 0.1489591896533966,\n",
       " 'sparse_categorical_accuracy': 0.9427213430404663,\n",
       " 'Brier score': 0.04221288859844208,\n",
       " 'auc': 0.9039740681648254,\n",
       " 'prc': 0.40022720098495485,\n",
       " 'FN': 5739.4,\n",
       " 'FP': 45851.4,\n",
       " 'MAE': 0.08904152810573578,\n",
       " 'TN': 334579.4,\n",
       " 'TP': 17285.8,\n",
       " 'bss': 0.9577871203422547,\n",
       " 'csi': 0.1672684520483017}"
      ]
     },
     "execution_count": 43,
     "metadata": {},
     "output_type": "execute_result"
    }
   ],
   "source": [
    "mean_hp[list(mean_hp.keys())[153]]"
   ]
  },
  {
   "cell_type": "code",
   "execution_count": 45,
   "id": "4980b6f7",
   "metadata": {},
   "outputs": [
    {
     "data": {
      "text/plain": [
       "'any_severe__36km_Rot_*_16_16_lrate_0.0001_spatial_dropout_0.1_i_4_filters_[128, 256, 512, 1024]_size_[2, 1, 2, 1]_pool_[2, 2, 2, 2]_loss_binary_crossentropy_results.pkl'"
      ]
     },
     "execution_count": 45,
     "metadata": {},
     "output_type": "execute_result"
    }
   ],
   "source": [
    "list(mean_hp.keys())[67]"
   ]
  },
  {
   "cell_type": "code",
   "execution_count": 42,
   "id": "a9354e85",
   "metadata": {},
   "outputs": [
    {
     "data": {
      "text/plain": [
       "{'loss': 0.15007832199335097,\n",
       " 'sparse_categorical_accuracy': 0.9427213430404663,\n",
       " 'Brier score': 0.04284626096487045,\n",
       " 'auc': 0.9015020370483399,\n",
       " 'prc': 0.39287262558937075,\n",
       " 'FN': 6488.2,\n",
       " 'FP': 42076.2,\n",
       " 'MAE': 0.0862571731209755,\n",
       " 'TN': 338354.6,\n",
       " 'TP': 16537.0,\n",
       " 'bss': 0.9571537375450134,\n",
       " 'csi': 0.1762111932039261}"
      ]
     },
     "execution_count": 42,
     "metadata": {},
     "output_type": "execute_result"
    }
   ],
   "source": [
    "mean_hp[list(mean_hp.keys())[67]]"
   ]
  },
  {
   "cell_type": "code",
   "execution_count": null,
   "id": "8ed2dc00",
   "metadata": {},
   "outputs": [],
   "source": []
  }
 ],
 "metadata": {
  "kernelspec": {
   "display_name": "Vanilla",
   "language": "python",
   "name": "vanilla"
  },
  "language_info": {
   "codemirror_mode": {
    "name": "ipython",
    "version": 3
   },
   "file_extension": ".py",
   "mimetype": "text/x-python",
   "name": "python",
   "nbconvert_exporter": "python",
   "pygments_lexer": "ipython3",
   "version": "3.10.5"
  }
 },
 "nbformat": 4,
 "nbformat_minor": 5
}
