{
 "cells": [
  {
   "cell_type": "code",
   "execution_count": 57,
   "id": "9aa8ea65-529d-4789-b830-ba514a8a838c",
   "metadata": {},
   "outputs": [],
   "source": [
    "import numpy as np\n",
    "import netCDF4\n",
    "import h5netcdf\n",
    "import xarray as xr\n",
    "import sys\n",
    "import tensorflow as tf\n",
    "from tensorflow import keras\n",
    "import pickle\n",
    "from os.path import join\n",
    "sys.path.append('/home/samuel.varga/projects/deep_learning/')\n",
    "sys.path.append('/home/samuel.varga/python_packages/fronts/')\n",
    "from deep_learning.training_utils import load_rotation, convert_to_tf, resize_neural_net\n",
    "from deep_learning.deep_networks import create_U_net_classifier_2D\n",
    "from custom_losses import brier_skill_score, critical_success_index, fractions_skill_score\n",
    "from custom_losses import brier_skill_score_metric, critical_success_index_metric, fractions_skill_score_metric"
   ]
  },
  {
   "cell_type": "code",
   "execution_count": 58,
   "id": "a1318081",
   "metadata": {},
   "outputs": [],
   "source": [
    "from keras import backend as K\n",
    "import gc\n",
    "from numba import cuda\n",
    "outdir='/work/samuel.varga/projects/2to6_hr_severe_wx/DEEP_LEARNING/models/'"
   ]
  },
  {
   "cell_type": "markdown",
   "id": "405d2fd2",
   "metadata": {},
   "source": [
    "# Binary Classification"
   ]
  },
  {
   "cell_type": "code",
   "execution_count": 59,
   "id": "20721267-20d4-4e72-b89a-334c0be18be5",
   "metadata": {},
   "outputs": [
    {
     "name": "stdout",
     "output_type": "stream",
     "text": [
      "Training path detected - loading scaling\n",
      "(6290, 16, 16, 63)\n",
      "(6290, 16, 16)\n"
     ]
    }
   ],
   "source": [
    "batch_size=2048\n",
    "target_column='any_severe__36km'\n",
    "rotation=3\n",
    "X_train, y_train, mean, variance = load_rotation(join('/work/samuel.varga/data/2to6_hr_severe_wx/DEEP_LEARNING/',f'wofs_dl_severe__2to6hr__rot_{rotation}__training_data.nc'), rotation, target_column)\n",
    "X_val, y_val = load_rotation(join('/work/samuel.varga/data/2to6_hr_severe_wx/DEEP_LEARNING/',f'wofs_dl_severe__2to6hr__rot_{rotation}__validation_data.nc'), rotation, target_column)\n",
    "X_test, y_test = load_rotation(join('/work/samuel.varga/data/2to6_hr_severe_wx/DEEP_LEARNING/',f'wofs_dl_severe__2to6hr__testing_data.nc'), None, target_column)\n",
    "print(np.shape(X_train))\n",
    "print(np.shape(y_train))\n",
    "\n",
    "#Convert to tf dataset\n",
    "train_ds = convert_to_tf((X_train,np.expand_dims(y_train, axis=-1)), batch_size)\n",
    "val_ds = convert_to_tf((X_val, np.expand_dims(y_val, axis=-1)), batch_size)\n",
    "test_ds=convert_to_tf((X_test[None,:,:,:], np.expand_dims(y_test[None,:,:,:], axis=-1)))"
   ]
  },
  {
   "cell_type": "code",
   "execution_count": 60,
   "id": "b0116ebd",
   "metadata": {},
   "outputs": [],
   "source": [
    "#U-net architectural parameters\n",
    "i=4\n",
    "conv_filters=[i*n for n in [32,64,128,256]]\n",
    "conv_size=[2,1,2,1]\n",
    "max_pool=[2,2,2,2]\n",
    "conv_layers =[{'filters': f, 'kernel_size': (s), 'pool_size': (p), 'strides': (p)} if p > 1\n",
    "                   else {'filters': f, 'kernel_size': (s), 'pool_size': None, 'strides': None}\n",
    "                   for s, f, p, in zip(conv_size, conv_filters, max_pool)]\n",
    "args={'lrate':1e-4, 'loss':'binary_crossentropy','activation_conv':'relu','activation_out':'sigmoid',\n",
    "     'p_spatial_dropout':0.1, 'filters':conv_filters, 'size':conv_size, 'pool':max_pool, 'shape':(16,16),\n",
    "     'rotation':rotation,'target_column':target_column, 'i':i}\n",
    "thresholds= [0.15]\n",
    "metrics=[tf.keras.metrics.SparseCategoricalAccuracy(), tf.keras.metrics.MeanSquaredError(name='Brier score'),\n",
    "    tf.keras.metrics.AUC(name='auc'), tf.keras.metrics.AUC(name='prc', curve='PR'),     \n",
    "         tf.keras.metrics.FalseNegatives(thresholds=thresholds, name='FN'), tf.keras.metrics.FalsePositives(thresholds=thresholds, name='FP'),\n",
    "         tf.keras.metrics.MeanAbsoluteError(name='MAE'), tf.keras.metrics.TrueNegatives(thresholds=thresholds, name='TN'),\n",
    "         tf.keras.metrics.TruePositives(thresholds=thresholds, name='TP'), brier_skill_score_metric(), critical_success_index_metric()]"
   ]
  },
  {
   "cell_type": "code",
   "execution_count": 61,
   "id": "db279981",
   "metadata": {},
   "outputs": [
    {
     "name": "stdout",
     "output_type": "stream",
     "text": [
      "Model: \"model_7\"\n",
      "__________________________________________________________________________________________________\n",
      " Layer (type)                   Output Shape         Param #     Connected to                     \n",
      "==================================================================================================\n",
      " Input (InputLayer)             [(None, 16, 16, 63)  0           []                               \n",
      "                                ]                                                                 \n",
      "                                                                                                  \n",
      " normalization_7 (Normalization  (None, 16, 16, 63)  0           ['Input[0][0]']                  \n",
      " )                                                                                                \n",
      "                                                                                                  \n",
      " Encode_0_0 (Conv2D)            (None, 16, 16, 128)  32384       ['normalization_7[0][0]']        \n",
      "                                                                                                  \n",
      " En_Sp_Dr_0_0 (SpatialDropout2D  (None, 16, 16, 128)  0          ['Encode_0_0[0][0]']             \n",
      " )                                                                                                \n",
      "                                                                                                  \n",
      " Encode_0_1 (Conv2D)            (None, 16, 16, 128)  65664       ['En_Sp_Dr_0_0[0][0]']           \n",
      "                                                                                                  \n",
      " En_Sp_Dr_0_1 (SpatialDropout2D  (None, 16, 16, 128)  0          ['Encode_0_1[0][0]']             \n",
      " )                                                                                                \n",
      "                                                                                                  \n",
      " Encode_Pool_0 (MaxPooling2D)   (None, 8, 8, 128)    0           ['En_Sp_Dr_0_1[0][0]']           \n",
      "                                                                                                  \n",
      " Encode_1_0 (Conv2D)            (None, 8, 8, 256)    33024       ['Encode_Pool_0[0][0]']          \n",
      "                                                                                                  \n",
      " En_Sp_Dr_1_0 (SpatialDropout2D  (None, 8, 8, 256)   0           ['Encode_1_0[0][0]']             \n",
      " )                                                                                                \n",
      "                                                                                                  \n",
      " Encode_1_1 (Conv2D)            (None, 8, 8, 256)    65792       ['En_Sp_Dr_1_0[0][0]']           \n",
      "                                                                                                  \n",
      " En_Sp_Dr_1_1 (SpatialDropout2D  (None, 8, 8, 256)   0           ['Encode_1_1[0][0]']             \n",
      " )                                                                                                \n",
      "                                                                                                  \n",
      " Encode_Pool_1 (MaxPooling2D)   (None, 4, 4, 256)    0           ['En_Sp_Dr_1_1[0][0]']           \n",
      "                                                                                                  \n",
      " Encode_2_0 (Conv2D)            (None, 4, 4, 512)    524800      ['Encode_Pool_1[0][0]']          \n",
      "                                                                                                  \n",
      " En_Sp_Dr_2_0 (SpatialDropout2D  (None, 4, 4, 512)   0           ['Encode_2_0[0][0]']             \n",
      " )                                                                                                \n",
      "                                                                                                  \n",
      " Encode_2_1 (Conv2D)            (None, 4, 4, 512)    1049088     ['En_Sp_Dr_2_0[0][0]']           \n",
      "                                                                                                  \n",
      " En_Sp_Dr_2_1 (SpatialDropout2D  (None, 4, 4, 512)   0           ['Encode_2_1[0][0]']             \n",
      " )                                                                                                \n",
      "                                                                                                  \n",
      " Encode_Pool_2 (MaxPooling2D)   (None, 2, 2, 512)    0           ['En_Sp_Dr_2_1[0][0]']           \n",
      "                                                                                                  \n",
      " Encode_3_0 (Conv2D)            (None, 2, 2, 1024)   525312      ['Encode_Pool_2[0][0]']          \n",
      "                                                                                                  \n",
      " En_Sp_Dr_3_0 (SpatialDropout2D  (None, 2, 2, 1024)  0           ['Encode_3_0[0][0]']             \n",
      " )                                                                                                \n",
      "                                                                                                  \n",
      " Encode_3_1 (Conv2D)            (None, 2, 2, 1024)   1049600     ['En_Sp_Dr_3_0[0][0]']           \n",
      "                                                                                                  \n",
      " En_Sp_Dr_3_1 (SpatialDropout2D  (None, 2, 2, 1024)  0           ['Encode_3_1[0][0]']             \n",
      " )                                                                                                \n",
      "                                                                                                  \n",
      " Encode_Pool_3 (MaxPooling2D)   (None, 1, 1, 1024)   0           ['En_Sp_Dr_3_1[0][0]']           \n",
      "                                                                                                  \n",
      " Midway (Conv2D)                (None, 1, 1, 2048)   2099200     ['Encode_Pool_3[0][0]']          \n",
      "                                                                                                  \n",
      " Decode_Upsample_3 (UpSampling2  (None, 2, 2, 2048)  0           ['Midway[0][0]']                 \n",
      " D)                                                                                               \n",
      "                                                                                                  \n",
      " Concat3 (Concatenate)          (None, 2, 2, 3072)   0           ['Decode_Upsample_3[0][0]',      \n",
      "                                                                  'En_Sp_Dr_3_1[0][0]']           \n",
      "                                                                                                  \n",
      " Decode_3_1 (Conv2D)            (None, 2, 2, 1024)   3146752     ['Concat3[0][0]']                \n",
      "                                                                                                  \n",
      " De_Sp_Dr_3_1 (SpatialDropout2D  (None, 2, 2, 1024)  0           ['Decode_3_1[0][0]']             \n",
      " )                                                                                                \n",
      "                                                                                                  \n",
      " Decode_3_0 (Conv2D)            (None, 2, 2, 1024)   1049600     ['De_Sp_Dr_3_1[0][0]']           \n",
      "                                                                                                  \n",
      " De_Sp_Dr_3_0 (SpatialDropout2D  (None, 2, 2, 1024)  0           ['Decode_3_0[0][0]']             \n",
      " )                                                                                                \n",
      "                                                                                                  \n",
      " Decode_Upsample_2 (UpSampling2  (None, 4, 4, 1024)  0           ['De_Sp_Dr_3_0[0][0]']           \n",
      " D)                                                                                               \n",
      "                                                                                                  \n",
      " Concat2 (Concatenate)          (None, 4, 4, 1536)   0           ['Decode_Upsample_2[0][0]',      \n",
      "                                                                  'En_Sp_Dr_2_1[0][0]']           \n",
      "                                                                                                  \n",
      " Decode_2_1 (Conv2D)            (None, 4, 4, 512)    3146240     ['Concat2[0][0]']                \n",
      "                                                                                                  \n"
     ]
    },
    {
     "name": "stdout",
     "output_type": "stream",
     "text": [
      " De_Sp_Dr_2_1 (SpatialDropout2D  (None, 4, 4, 512)   0           ['Decode_2_1[0][0]']             \n",
      " )                                                                                                \n",
      "                                                                                                  \n",
      " Decode_2_0 (Conv2D)            (None, 4, 4, 512)    1049088     ['De_Sp_Dr_2_1[0][0]']           \n",
      "                                                                                                  \n",
      " De_Sp_Dr_2_0 (SpatialDropout2D  (None, 4, 4, 512)   0           ['Decode_2_0[0][0]']             \n",
      " )                                                                                                \n",
      "                                                                                                  \n",
      " Decode_Upsample_1 (UpSampling2  (None, 8, 8, 512)   0           ['De_Sp_Dr_2_0[0][0]']           \n",
      " D)                                                                                               \n",
      "                                                                                                  \n",
      " Concat1 (Concatenate)          (None, 8, 8, 768)    0           ['Decode_Upsample_1[0][0]',      \n",
      "                                                                  'En_Sp_Dr_1_1[0][0]']           \n",
      "                                                                                                  \n",
      " Decode_1_1 (Conv2D)            (None, 8, 8, 256)    196864      ['Concat1[0][0]']                \n",
      "                                                                                                  \n",
      " De_Sp_Dr_1_1 (SpatialDropout2D  (None, 8, 8, 256)   0           ['Decode_1_1[0][0]']             \n",
      " )                                                                                                \n",
      "                                                                                                  \n",
      " Decode_1_0 (Conv2D)            (None, 8, 8, 256)    65792       ['De_Sp_Dr_1_1[0][0]']           \n",
      "                                                                                                  \n",
      " De_Sp_Dr_1_0 (SpatialDropout2D  (None, 8, 8, 256)   0           ['Decode_1_0[0][0]']             \n",
      " )                                                                                                \n",
      "                                                                                                  \n",
      " Decode_Upsample_0 (UpSampling2  (None, 16, 16, 256)  0          ['De_Sp_Dr_1_0[0][0]']           \n",
      " D)                                                                                               \n",
      "                                                                                                  \n",
      " Concat0 (Concatenate)          (None, 16, 16, 384)  0           ['Decode_Upsample_0[0][0]',      \n",
      "                                                                  'En_Sp_Dr_0_1[0][0]']           \n",
      "                                                                                                  \n",
      " Decode_0_1 (Conv2D)            (None, 16, 16, 128)  196736      ['Concat0[0][0]']                \n",
      "                                                                                                  \n",
      " De_Sp_Dr_0_1 (SpatialDropout2D  (None, 16, 16, 128)  0          ['Decode_0_1[0][0]']             \n",
      " )                                                                                                \n",
      "                                                                                                  \n",
      " Decode_0_0 (Conv2D)            (None, 16, 16, 128)  65664       ['De_Sp_Dr_0_1[0][0]']           \n",
      "                                                                                                  \n",
      " De_Sp_Dr_0_0 (SpatialDropout2D  (None, 16, 16, 128)  0          ['Decode_0_0[0][0]']             \n",
      " )                                                                                                \n",
      "                                                                                                  \n",
      " Output (Conv2D)                (None, 16, 16, 1)    129         ['De_Sp_Dr_0_0[0][0]']           \n",
      "                                                                                                  \n",
      "==================================================================================================\n",
      "Total params: 14,361,729\n",
      "Trainable params: 14,361,729\n",
      "Non-trainable params: 0\n",
      "__________________________________________________________________________________________________\n",
      "None\n"
     ]
    }
   ],
   "source": [
    "#Create U-net\n",
    "u_net = create_U_net_classifier_2D(image_size=args['shape'], nchannels=63, n_classes=1, conv_layers=conv_layers, p_spatial_dropout=args['p_spatial_dropout'], metrics=metrics,\n",
    "                               lrate=args['lrate'], loss=args['loss'], activation_conv=args['activation_conv'], activation_out='sigmoid',\n",
    "                                      normalization=(mean, variance))"
   ]
  },
  {
   "cell_type": "code",
   "execution_count": 62,
   "id": "6d348818",
   "metadata": {},
   "outputs": [],
   "source": [
    "#Callbacks\n",
    "early_stopping_cb =keras.callbacks.EarlyStopping(patience=25, restore_best_weights=True,\n",
    "                                                min_delta=0.01, monitor='val_loss')\n",
    "tensorboard_cb= keras.callbacks.TensorBoard(log_dir=join(outdir,'logs'), histogram_freq=1)"
   ]
  },
  {
   "cell_type": "code",
   "execution_count": null,
   "id": "e14718cd",
   "metadata": {},
   "outputs": [
    {
     "name": "stdout",
     "output_type": "stream",
     "text": [
      "Epoch 1/100\n"
     ]
    },
    {
     "name": "stderr",
     "output_type": "stream",
     "text": [
      "2024-02-14 18:01:56.448239: E tensorflow/core/grappler/optimizers/meta_optimizer.cc:954] layout failed: INVALID_ARGUMENT: Size of values 0 does not match size of permutation 4 @ fanin shape inmodel_7/En_Sp_Dr_0_0/dropout/SelectV2-2-TransposeNHWCToNCHW-LayoutOptimizer\n"
     ]
    },
    {
     "name": "stdout",
     "output_type": "stream",
     "text": [
      "4/4 [==============================] - 3s 372ms/step - loss: 0.6472 - sparse_categorical_accuracy: 0.9454 - Brier score: 0.2270 - auc: 0.5064 - prc: 0.0990 - FN: 846.0000 - FP: 1521871.0000 - MAE: 0.4726 - TN: 492.0000 - TP: 87031.0000 - bss: 0.7858 - csi: 0.0446 - val_loss: 0.5227 - val_sparse_categorical_accuracy: 0.9331 - val_Brier score: 0.1632 - val_auc: 0.2749 - val_prc: 0.0441 - val_FN: 5410.0000 - val_FP: 372187.0000 - val_MAE: 0.3846 - val_TN: 7604.0000 - val_TP: 21839.0000 - val_bss: 0.8368 - val_csi: 0.0445\n",
      "Epoch 2/100\n",
      "4/4 [==============================] - 1s 266ms/step - loss: 0.4610 - sparse_categorical_accuracy: 0.9454 - Brier score: 0.1317 - auc: 0.3250 - prc: 0.0382 - FN: 32408.0000 - FP: 1360082.0000 - MAE: 0.3268 - TN: 162281.0000 - TP: 55469.0000 - bss: 0.8803 - csi: 0.0291 - val_loss: 0.4542 - val_sparse_categorical_accuracy: 0.9331 - val_Brier score: 0.0991 - val_auc: 0.2966 - val_prc: 0.0455 - val_FN: 20307.0000 - val_FP: 176928.0000 - val_MAE: 0.2216 - val_TN: 202863.0000 - val_TP: 6942.0000 - val_bss: 0.9009 - val_csi: 0.0297\n",
      "Epoch 3/100\n",
      "4/4 [==============================] - 1s 266ms/step - loss: 0.3863 - sparse_categorical_accuracy: 0.9454 - Brier score: 0.0820 - auc: 0.3299 - prc: 0.0385 - FN: 68555.0000 - FP: 556181.0000 - MAE: 0.1859 - TN: 966182.0000 - TP: 19322.0000 - bss: 0.9227 - csi: 0.0231 - val_loss: 0.3852 - val_sparse_categorical_accuracy: 0.9331 - val_Brier score: 0.0908 - val_auc: 0.3263 - val_prc: 0.0482 - val_FN: 20519.0000 - val_FP: 143477.0000 - val_MAE: 0.2066 - val_TN: 236314.0000 - val_TP: 6730.0000 - val_bss: 0.9092 - val_csi: 0.0333\n",
      "Epoch 4/100\n",
      "4/4 [==============================] - 1s 263ms/step - loss: 0.3232 - sparse_categorical_accuracy: 0.9454 - Brier score: 0.0770 - auc: 0.3759 - prc: 0.0421 - FN: 66938.0000 - FP: 493958.0000 - MAE: 0.1829 - TN: 1028405.0000 - TP: 20939.0000 - bss: 0.9272 - csi: 0.0277 - val_loss: 0.3333 - val_sparse_categorical_accuracy: 0.9331 - val_Brier score: 0.0855 - val_auc: 0.4234 - val_prc: 0.0569 - val_FN: 18379.0000 - val_FP: 138498.0000 - val_MAE: 0.2042 - val_TN: 241293.0000 - val_TP: 8870.0000 - val_bss: 0.9145 - val_csi: 0.0421\n",
      "Epoch 5/100\n",
      "4/4 [==============================] - 1s 266ms/step - loss: 0.2799 - sparse_categorical_accuracy: 0.9454 - Brier score: 0.0708 - auc: 0.4893 - prc: 0.0521 - FN: 62969.0000 - FP: 429411.0000 - MAE: 0.1715 - TN: 1092952.0000 - TP: 24908.0000 - bss: 0.9337 - csi: 0.0339 - val_loss: 0.2864 - val_sparse_categorical_accuracy: 0.9331 - val_Brier score: 0.0755 - val_auc: 0.5730 - val_prc: 0.0766 - val_FN: 17695.0000 - val_FP: 103186.0000 - val_MAE: 0.1727 - val_TN: 276605.0000 - val_TP: 9554.0000 - val_bss: 0.9245 - val_csi: 0.0505\n",
      "Epoch 6/100\n",
      "4/4 [==============================] - 1s 257ms/step - loss: 0.2432 - sparse_categorical_accuracy: 0.9454 - Brier score: 0.0620 - auc: 0.6001 - prc: 0.0663 - FN: 68306.0000 - FP: 283837.0000 - MAE: 0.1356 - TN: 1238526.0000 - TP: 19571.0000 - bss: 0.9425 - csi: 0.0380 - val_loss: 0.2438 - val_sparse_categorical_accuracy: 0.9331 - val_Brier score: 0.0657 - val_auc: 0.7007 - val_prc: 0.1094 - val_FN: 16316.0000 - val_FP: 75092.0000 - val_MAE: 0.1376 - val_TN: 304699.0000 - val_TP: 10933.0000 - val_bss: 0.9343 - val_csi: 0.0632\n",
      "Epoch 7/100\n",
      "4/4 [==============================] - 1s 262ms/step - loss: 0.2103 - sparse_categorical_accuracy: 0.9454 - Brier score: 0.0546 - auc: 0.7144 - prc: 0.0935 - FN: 66756.0000 - FP: 213091.0000 - MAE: 0.1075 - TN: 1309272.0000 - TP: 21121.0000 - bss: 0.9492 - csi: 0.0479 - val_loss: 0.2157 - val_sparse_categorical_accuracy: 0.9331 - val_Brier score: 0.0593 - val_auc: 0.7929 - val_prc: 0.1927 - val_FN: 9585.0000 - val_FP: 84590.0000 - val_MAE: 0.1334 - val_TN: 295201.0000 - val_TP: 17664.0000 - val_bss: 0.9407 - val_csi: 0.0926\n",
      "Epoch 8/100\n",
      "4/4 [==============================] - 1s 257ms/step - loss: 0.1831 - sparse_categorical_accuracy: 0.9454 - Brier score: 0.0489 - auc: 0.8012 - prc: 0.1693 - FN: 44504.0000 - FP: 210692.0000 - MAE: 0.1020 - TN: 1311671.0000 - TP: 43373.0000 - bss: 0.9541 - csi: 0.0753 - val_loss: 0.1998 - val_sparse_categorical_accuracy: 0.9331 - val_Brier score: 0.0556 - val_auc: 0.8365 - val_prc: 0.2785 - val_FN: 7891.0000 - val_FP: 70084.0000 - val_MAE: 0.1240 - val_TN: 309707.0000 - val_TP: 19358.0000 - val_bss: 0.9444 - val_csi: 0.1216\n",
      "Epoch 9/100\n",
      "4/4 [==============================] - 1s 254ms/step - loss: 0.1711 - sparse_categorical_accuracy: 0.9454 - Brier score: 0.0456 - auc: 0.8372 - prc: 0.2496 - FN: 37902.0000 - FP: 164781.0000 - MAE: 0.0900 - TN: 1357582.0000 - TP: 49975.0000 - bss: 0.9573 - csi: 0.1017 - val_loss: 0.1912 - val_sparse_categorical_accuracy: 0.9331 - val_Brier score: 0.0542 - val_auc: 0.8581 - val_prc: 0.3192 - val_FN: 7316.0000 - val_FP: 63668.0000 - val_MAE: 0.1171 - val_TN: 316123.0000 - val_TP: 19933.0000 - val_bss: 0.9458 - val_csi: 0.1449\n",
      "Epoch 10/100\n",
      "4/4 [==============================] - 1s 262ms/step - loss: 0.1639 - sparse_categorical_accuracy: 0.9454 - Brier score: 0.0444 - auc: 0.8589 - prc: 0.2921 - FN: 32139.0000 - FP: 173130.0000 - MAE: 0.0888 - TN: 1349233.0000 - TP: 55738.0000 - bss: 0.9577 - csi: 0.1210 - val_loss: 0.1874 - val_sparse_categorical_accuracy: 0.9331 - val_Brier score: 0.0539 - val_auc: 0.8708 - val_prc: 0.3417 - val_FN: 6569.0000 - val_FP: 64747.0000 - val_MAE: 0.1174 - val_TN: 315044.0000 - val_TP: 20680.0000 - val_bss: 0.9461 - val_csi: 0.1562\n",
      "Epoch 11/100\n",
      "4/4 [==============================] - 1s 267ms/step - loss: 0.1624 - sparse_categorical_accuracy: 0.9454 - Brier score: 0.0442 - auc: 0.8628 - prc: 0.2977 - FN: 30557.0000 - FP: 170722.0000 - MAE: 0.0877 - TN: 1351641.0000 - TP: 57320.0000 - bss: 0.9588 - csi: 0.1329 - val_loss: 0.1842 - val_sparse_categorical_accuracy: 0.9331 - val_Brier score: 0.0527 - val_auc: 0.8748 - val_prc: 0.3551 - val_FN: 6775.0000 - val_FP: 60947.0000 - val_MAE: 0.1138 - val_TN: 318844.0000 - val_TP: 20474.0000 - val_bss: 0.9473 - val_csi: 0.1607\n",
      "Epoch 12/100\n",
      "3/4 [=====================>........] - ETA: 0s - loss: 0.1595 - sparse_categorical_accuracy: 0.9449 - Brier score: 0.0440 - auc: 0.8701 - prc: 0.3028 - FN: 30162.0000 - FP: 159388.0000 - MAE: 0.0869 - TN: 1326887.0000 - TP: 56427.0000 - bss: 0.9560 - csi: 0.1374"
     ]
    }
   ],
   "source": [
    "#Learn the model\n",
    "history = u_net.fit(train_ds, epochs=100, verbose=True, validation_data = val_ds,\n",
    "    callbacks=[early_stopping_cb, tensorboard_cb])"
   ]
  },
  {
   "cell_type": "code",
   "execution_count": null,
   "id": "de5a2cfa",
   "metadata": {},
   "outputs": [],
   "source": [
    "def save_results(args, u_net, history, train_ds, val_ds, test_ds):\n",
    "    fbase = f\"{args['target_column']}_Rot_{args['rotation']}_{args['shape'][0]}_{args['shape'][1]}_lrate_{args['lrate']}_spatial_dropout_{args['p_spatial_dropout']}_i_{args['i']}_filters_{args['filters']}_size_{args['size']}_pool_{args['pool']}_loss_{args['loss']}\"\n",
    "    results = {}\n",
    "    results['args'] = args\n",
    "    #results['predict_val'] = u_net.predict(val_ds)\n",
    "    results['predict_val_eval'] = u_net.evaluate(val_ds, return_dict=True)\n",
    "    results['predict_val'] = u_net.predict(val_ds)\n",
    "    print(results['predict_val_eval'])\n",
    "\n",
    "    if test_ds is not None:\n",
    "        results['predict_test']=u_net.predict(test_ds)\n",
    "        results['predict_test_eval']=u_net.evaluate(test_ds, return_dict=True)\n",
    "\n",
    "    #results['predict_train']=u_net.predict(train_ds)\n",
    "    results['predict_train_eval']=u_net.evaluate(train_ds, return_dict=True)\n",
    "    results['history']=history.history\n",
    "    results['fname_base']=fbase\n",
    "\n",
    "    #Save results\n",
    "    with open(join(outdir, f'{fbase}_results.pkl'),'wb') as fp:\n",
    "        pickle.dump(results, fp)\n",
    "\n",
    "    #save model\n",
    "    if False:\n",
    "        u_net.save(join(join(outdir, 'models'), f'{fbase}_model'))\n",
    "    #print(np.max(results['predict_test']))\n",
    "    #print(np.mean(results['predict_test']))\n",
    "    print(fbase)\n",
    "    return None\n",
    "save_results(args, u_net, history,  train_ds, val_ds, test_ds)"
   ]
  },
  {
   "cell_type": "code",
   "execution_count": null,
   "id": "216b9d92",
   "metadata": {},
   "outputs": [],
   "source": []
  }
 ],
 "metadata": {
  "kernelspec": {
   "display_name": "tf",
   "language": "python",
   "name": "tf"
  },
  "language_info": {
   "codemirror_mode": {
    "name": "ipython",
    "version": 3
   },
   "file_extension": ".py",
   "mimetype": "text/x-python",
   "name": "python",
   "nbconvert_exporter": "python",
   "pygments_lexer": "ipython3",
   "version": "3.10.13"
  }
 },
 "nbformat": 4,
 "nbformat_minor": 5
}
