{
 "cells": [
  {
   "cell_type": "code",
   "execution_count": 1,
   "id": "9aa8ea65-529d-4789-b830-ba514a8a838c",
   "metadata": {},
   "outputs": [
    {
     "name": "stderr",
     "output_type": "stream",
     "text": [
      "2024-01-19 13:44:51.600231: I tensorflow/core/platform/cpu_feature_guard.cc:193] This TensorFlow binary is optimized with oneAPI Deep Neural Network Library (oneDNN) to use the following CPU instructions in performance-critical operations:  SSE4.1 SSE4.2 AVX AVX2 AVX512F AVX512_VNNI AVX512_BF16 FMA\n",
      "To enable them in other operations, rebuild TensorFlow with the appropriate compiler flags.\n",
      "2024-01-19 13:44:56.261223: I tensorflow/core/util/port.cc:104] oneDNN custom operations are on. You may see slightly different numerical results due to floating-point round-off errors from different computation orders. To turn them off, set the environment variable `TF_ENABLE_ONEDNN_OPTS=0`.\n"
     ]
    }
   ],
   "source": [
    "import numpy as np\n",
    "import netCDF4\n",
    "import h5netcdf\n",
    "import xarray as xr\n",
    "import sys\n",
    "import tensorflow as tf\n",
    "from tensorflow import keras\n",
    "import pickle\n",
    "from os.path import join\n",
    "sys.path.append('/home/samuel.varga/projects/deep_learning/')\n",
    "sys.path.append('/home/samuel.varga/python_packages/fronts/')\n",
    "from deep_learning.training_utils import load_rotation, convert_to_tf, resize_neural_net\n",
    "from deep_learning.deep_networks import create_U_net_classifier_2D\n",
    "from custom_losses import brier_skill_score, critical_success_index, fractions_skill_score"
   ]
  },
  {
   "cell_type": "code",
   "execution_count": 2,
   "id": "a1318081",
   "metadata": {},
   "outputs": [],
   "source": [
    "from keras import backend as K\n",
    "import gc\n",
    "from numba import cuda\n",
    "outdir='/work/samuel.varga/projects/2to6_hr_severe_wx/DEEP_LEARNING/'"
   ]
  },
  {
   "cell_type": "markdown",
   "id": "405d2fd2",
   "metadata": {},
   "source": [
    "# Binary Classification"
   ]
  },
  {
   "cell_type": "code",
   "execution_count": 3,
   "id": "20721267-20d4-4e72-b89a-334c0be18be5",
   "metadata": {},
   "outputs": [
    {
     "name": "stdout",
     "output_type": "stream",
     "text": [
      "Training path detected - loading scaling\n",
      "(6350, 16, 16, 63)\n",
      "(6350, 16, 16)\n"
     ]
    },
    {
     "name": "stderr",
     "output_type": "stream",
     "text": [
      "2024-01-19 13:46:23.271896: I tensorflow/core/platform/cpu_feature_guard.cc:193] This TensorFlow binary is optimized with oneAPI Deep Neural Network Library (oneDNN) to use the following CPU instructions in performance-critical operations:  SSE4.1 SSE4.2 AVX AVX2 AVX512F AVX512_VNNI AVX512_BF16 FMA\n",
      "To enable them in other operations, rebuild TensorFlow with the appropriate compiler flags.\n",
      "2024-01-19 13:46:23.540961: I tensorflow/core/common_runtime/gpu/gpu_device.cc:1613] Created device /job:localhost/replica:0/task:0/device:GPU:0 with 79086 MB memory:  -> device: 0, name: NVIDIA A100 80GB PCIe, pci bus id: 0000:21:00.0, compute capability: 8.0\n"
     ]
    }
   ],
   "source": [
    "batch_size=2048\n",
    "target_column='any_severe__36km'\n",
    "rotation=0\n",
    "X_train, y_train, mean, variance = load_rotation(join('/work/samuel.varga/data/2to6_hr_severe_wx/DEEP_LEARNING/',f'wofs_dl_severe__2to6hr__rot_{rotation}__training_data.nc'), rotation, target_column)\n",
    "X_val, y_val = load_rotation(join('/work/samuel.varga/data/2to6_hr_severe_wx/DEEP_LEARNING/',f'wofs_dl_severe__2to6hr__rot_{rotation}__validation_data.nc'), rotation, target_column)\n",
    "X_test, y_test = load_rotation(join('/work/samuel.varga/data/2to6_hr_severe_wx/DEEP_LEARNING/',f'wofs_dl_severe__2to6hr__testing_data.nc'), None, target_column)\n",
    "print(np.shape(X_train))\n",
    "print(np.shape(y_train))\n",
    "\n",
    "#Convert to tf dataset\n",
    "train_ds = convert_to_tf((X_train,np.expand_dims(y_train, axis=-1)), batch_size)\n",
    "val_ds = convert_to_tf((X_val, np.expand_dims(y_val, axis=-1)), batch_size)\n",
    "test_ds=convert_to_tf((X_test[None,:,:,:], np.expand_dims(y_test[None,:,:,:], axis=-1)))"
   ]
  },
  {
   "cell_type": "markdown",
   "id": "160ee0e0",
   "metadata": {},
   "source": [
    "# Multiclass Classification"
   ]
  },
  {
   "cell_type": "code",
   "execution_count": 77,
   "id": "d199342d",
   "metadata": {},
   "outputs": [
    {
     "name": "stdout",
     "output_type": "stream",
     "text": [
      "Training path detected - loading scaling\n",
      "(6350, 16, 16, 63)\n",
      "()\n"
     ]
    }
   ],
   "source": [
    "batch_size=2048\n",
    "target_column=['any_severe__36km','wind_severe__36km','hail_severe__36km','tornado_severe__36km']\n",
    "rotation=0\n",
    "X_train, y_train, mean, variance = load_rotation(join('/work/samuel.varga/data/2to6_hr_severe_wx/DEEP_LEARNING/',f'wofs_dl_severe__2to6hr__rot_{rotation}__training_data.nc'), rotation, target_column)\n",
    "X_val, y_val = load_rotation(join('/work/samuel.varga/data/2to6_hr_severe_wx/DEEP_LEARNING/',f'wofs_dl_severe__2to6hr__rot_{rotation}__validation_data.nc'), rotation, target_column)\n",
    "X_test, y_test = load_rotation(join('/work/samuel.varga/data/2to6_hr_severe_wx/DEEP_LEARNING/',f'wofs_dl_severe__2to6hr__testing_data.nc'), None, target_column)\n",
    "\n",
    "print(np.shape(X_train))\n",
    "print(np.shape(y_train))\n",
    "#Convert to tf dataset\n",
    "\n",
    "train_ds = convert_to_tf((X_train, np.reshape(np.array([y_train[v] for v in y_train.keys()]), (6350,16,16,4))), batch_size)\n",
    "val_ds = convert_to_tf((X_val, np.reshape(np.array([y_val[v] for v in y_val.keys()]), (1530,16,16,4))), batch_size)\n",
    "test_ds=convert_to_tf((X_test[None,:,:,:], np.reshape(np.array([y_test[v] for v in y_test.keys()]), (3410,16,16,4))[None,:,:,:]))"
   ]
  },
  {
   "cell_type": "code",
   "execution_count": 17,
   "id": "b0116ebd",
   "metadata": {},
   "outputs": [],
   "source": [
    "#U-net architectural parameters\n",
    "i=2\n",
    "conv_filters=[i*n for n in [32,64,128,256]]\n",
    "conv_size=[4,3,2,2]\n",
    "max_pool=[2,2,2,2]\n",
    "conv_layers =[{'filters': f, 'kernel_size': (s), 'pool_size': (p), 'strides': (p)} if p > 1\n",
    "                   else {'filters': f, 'kernel_size': (s), 'pool_size': None, 'strides': None}\n",
    "                   for s, f, p, in zip(conv_size, conv_filters, max_pool)]\n",
    "args={'lrate':1e-4, 'loss':'binary_crossentropy','activation_conv':'relu','activation_out':'sigmoid',\n",
    "     'p_spatial_dropout':0.15, 'filters':conv_filters, 'size':conv_size, 'pool':max_pool, 'shape':(16,16),\n",
    "     'rotation':rotation,'target_column':target_column, 'i':i}\n",
    "thresholds= [0.15]\n",
    "metrics=[tf.keras.metrics.SparseCategoricalAccuracy(), tf.keras.metrics.MeanSquaredError(name='Brier score'),\n",
    "    tf.keras.metrics.AUC(name='auc'), tf.keras.metrics.AUC(name='prc', curve='PR'),     \n",
    "         tf.keras.metrics.FalseNegatives(thresholds=thresholds), tf.keras.metrics.FalsePositives(thresholds=thresholds),\n",
    "         tf.keras.metrics.MeanAbsoluteError(), tf.keras.metrics.TrueNegatives(thresholds=thresholds),\n",
    "         tf.keras.metrics.TruePositives(thresholds=thresholds)]"
   ]
  },
  {
   "cell_type": "code",
   "execution_count": 18,
   "id": "db279981",
   "metadata": {},
   "outputs": [
    {
     "name": "stdout",
     "output_type": "stream",
     "text": [
      "Model: \"model_2\"\n",
      "__________________________________________________________________________________________________\n",
      " Layer (type)                   Output Shape         Param #     Connected to                     \n",
      "==================================================================================================\n",
      " Input (InputLayer)             [(None, 16, 16, 63)  0           []                               \n",
      "                                ]                                                                 \n",
      "                                                                                                  \n",
      " normalization_2 (Normalization  (None, 16, 16, 63)  0           ['Input[0][0]']                  \n",
      " )                                                                                                \n",
      "                                                                                                  \n",
      " Encode_0_0 (Conv2D)            (None, 16, 16, 64)   64576       ['normalization_2[0][0]']        \n",
      "                                                                                                  \n",
      " En_Sp_Dr_0_0 (SpatialDropout2D  (None, 16, 16, 64)  0           ['Encode_0_0[0][0]']             \n",
      " )                                                                                                \n",
      "                                                                                                  \n",
      " Encode_0_1 (Conv2D)            (None, 16, 16, 64)   65600       ['En_Sp_Dr_0_0[0][0]']           \n",
      "                                                                                                  \n",
      " En_Sp_Dr_0_1 (SpatialDropout2D  (None, 16, 16, 64)  0           ['Encode_0_1[0][0]']             \n",
      " )                                                                                                \n",
      "                                                                                                  \n",
      " Encode_Pool_0 (MaxPooling2D)   (None, 8, 8, 64)     0           ['En_Sp_Dr_0_1[0][0]']           \n",
      "                                                                                                  \n",
      " Encode_1_0 (Conv2D)            (None, 8, 8, 128)    73856       ['Encode_Pool_0[0][0]']          \n",
      "                                                                                                  \n",
      " En_Sp_Dr_1_0 (SpatialDropout2D  (None, 8, 8, 128)   0           ['Encode_1_0[0][0]']             \n",
      " )                                                                                                \n",
      "                                                                                                  \n",
      " Encode_1_1 (Conv2D)            (None, 8, 8, 128)    147584      ['En_Sp_Dr_1_0[0][0]']           \n",
      "                                                                                                  \n",
      " En_Sp_Dr_1_1 (SpatialDropout2D  (None, 8, 8, 128)   0           ['Encode_1_1[0][0]']             \n",
      " )                                                                                                \n",
      "                                                                                                  \n",
      " Encode_Pool_1 (MaxPooling2D)   (None, 4, 4, 128)    0           ['En_Sp_Dr_1_1[0][0]']           \n",
      "                                                                                                  \n",
      " Encode_2_0 (Conv2D)            (None, 4, 4, 256)    131328      ['Encode_Pool_1[0][0]']          \n",
      "                                                                                                  \n",
      " En_Sp_Dr_2_0 (SpatialDropout2D  (None, 4, 4, 256)   0           ['Encode_2_0[0][0]']             \n",
      " )                                                                                                \n",
      "                                                                                                  \n",
      " Encode_2_1 (Conv2D)            (None, 4, 4, 256)    262400      ['En_Sp_Dr_2_0[0][0]']           \n",
      "                                                                                                  \n",
      " En_Sp_Dr_2_1 (SpatialDropout2D  (None, 4, 4, 256)   0           ['Encode_2_1[0][0]']             \n",
      " )                                                                                                \n",
      "                                                                                                  \n",
      " Encode_Pool_2 (MaxPooling2D)   (None, 2, 2, 256)    0           ['En_Sp_Dr_2_1[0][0]']           \n",
      "                                                                                                  \n",
      " Encode_3_0 (Conv2D)            (None, 2, 2, 512)    524800      ['Encode_Pool_2[0][0]']          \n",
      "                                                                                                  \n",
      " En_Sp_Dr_3_0 (SpatialDropout2D  (None, 2, 2, 512)   0           ['Encode_3_0[0][0]']             \n",
      " )                                                                                                \n",
      "                                                                                                  \n",
      " Encode_3_1 (Conv2D)            (None, 2, 2, 512)    1049088     ['En_Sp_Dr_3_0[0][0]']           \n",
      "                                                                                                  \n",
      " En_Sp_Dr_3_1 (SpatialDropout2D  (None, 2, 2, 512)   0           ['Encode_3_1[0][0]']             \n",
      " )                                                                                                \n",
      "                                                                                                  \n",
      " Encode_Pool_3 (MaxPooling2D)   (None, 1, 1, 512)    0           ['En_Sp_Dr_3_1[0][0]']           \n",
      "                                                                                                  \n",
      " Midway (Conv2D)                (None, 1, 1, 1024)   525312      ['Encode_Pool_3[0][0]']          \n",
      "                                                                                                  \n",
      " Decode_Upsample_3 (UpSampling2  (None, 2, 2, 1024)  0           ['Midway[0][0]']                 \n",
      " D)                                                                                               \n",
      "                                                                                                  \n",
      " Concat3 (Concatenate)          (None, 2, 2, 1536)   0           ['Decode_Upsample_3[0][0]',      \n",
      "                                                                  'En_Sp_Dr_3_1[0][0]']           \n",
      "                                                                                                  \n",
      " Decode_3_1 (Conv2D)            (None, 2, 2, 512)    3146240     ['Concat3[0][0]']                \n",
      "                                                                                                  \n",
      " De_Sp_Dr_3_1 (SpatialDropout2D  (None, 2, 2, 512)   0           ['Decode_3_1[0][0]']             \n",
      " )                                                                                                \n",
      "                                                                                                  \n",
      " Decode_3_0 (Conv2D)            (None, 2, 2, 512)    1049088     ['De_Sp_Dr_3_1[0][0]']           \n",
      "                                                                                                  \n",
      " De_Sp_Dr_3_0 (SpatialDropout2D  (None, 2, 2, 512)   0           ['Decode_3_0[0][0]']             \n",
      " )                                                                                                \n",
      "                                                                                                  \n",
      " Decode_Upsample_2 (UpSampling2  (None, 4, 4, 512)   0           ['De_Sp_Dr_3_0[0][0]']           \n",
      " D)                                                                                               \n",
      "                                                                                                  \n",
      " Concat2 (Concatenate)          (None, 4, 4, 768)    0           ['Decode_Upsample_2[0][0]',      \n",
      "                                                                  'En_Sp_Dr_2_1[0][0]']           \n",
      "                                                                                                  \n",
      " Decode_2_1 (Conv2D)            (None, 4, 4, 256)    786688      ['Concat2[0][0]']                \n",
      "                                                                                                  \n"
     ]
    },
    {
     "name": "stdout",
     "output_type": "stream",
     "text": [
      " De_Sp_Dr_2_1 (SpatialDropout2D  (None, 4, 4, 256)   0           ['Decode_2_1[0][0]']             \n",
      " )                                                                                                \n",
      "                                                                                                  \n",
      " Decode_2_0 (Conv2D)            (None, 4, 4, 256)    262400      ['De_Sp_Dr_2_1[0][0]']           \n",
      "                                                                                                  \n",
      " De_Sp_Dr_2_0 (SpatialDropout2D  (None, 4, 4, 256)   0           ['Decode_2_0[0][0]']             \n",
      " )                                                                                                \n",
      "                                                                                                  \n",
      " Decode_Upsample_1 (UpSampling2  (None, 8, 8, 256)   0           ['De_Sp_Dr_2_0[0][0]']           \n",
      " D)                                                                                               \n",
      "                                                                                                  \n",
      " Concat1 (Concatenate)          (None, 8, 8, 384)    0           ['Decode_Upsample_1[0][0]',      \n",
      "                                                                  'En_Sp_Dr_1_1[0][0]']           \n",
      "                                                                                                  \n",
      " Decode_1_1 (Conv2D)            (None, 8, 8, 128)    442496      ['Concat1[0][0]']                \n",
      "                                                                                                  \n",
      " De_Sp_Dr_1_1 (SpatialDropout2D  (None, 8, 8, 128)   0           ['Decode_1_1[0][0]']             \n",
      " )                                                                                                \n",
      "                                                                                                  \n",
      " Decode_1_0 (Conv2D)            (None, 8, 8, 128)    147584      ['De_Sp_Dr_1_1[0][0]']           \n",
      "                                                                                                  \n",
      " De_Sp_Dr_1_0 (SpatialDropout2D  (None, 8, 8, 128)   0           ['Decode_1_0[0][0]']             \n",
      " )                                                                                                \n",
      "                                                                                                  \n",
      " Decode_Upsample_0 (UpSampling2  (None, 16, 16, 128)  0          ['De_Sp_Dr_1_0[0][0]']           \n",
      " D)                                                                                               \n",
      "                                                                                                  \n",
      " Concat0 (Concatenate)          (None, 16, 16, 192)  0           ['Decode_Upsample_0[0][0]',      \n",
      "                                                                  'En_Sp_Dr_0_1[0][0]']           \n",
      "                                                                                                  \n",
      " Decode_0_1 (Conv2D)            (None, 16, 16, 64)   196672      ['Concat0[0][0]']                \n",
      "                                                                                                  \n",
      " De_Sp_Dr_0_1 (SpatialDropout2D  (None, 16, 16, 64)  0           ['Decode_0_1[0][0]']             \n",
      " )                                                                                                \n",
      "                                                                                                  \n",
      " Decode_0_0 (Conv2D)            (None, 16, 16, 64)   65600       ['De_Sp_Dr_0_1[0][0]']           \n",
      "                                                                                                  \n",
      " De_Sp_Dr_0_0 (SpatialDropout2D  (None, 16, 16, 64)  0           ['Decode_0_0[0][0]']             \n",
      " )                                                                                                \n",
      "                                                                                                  \n",
      " Output (Conv2D)                (None, 16, 16, 1)    65          ['De_Sp_Dr_0_0[0][0]']           \n",
      "                                                                                                  \n",
      "==================================================================================================\n",
      "Total params: 8,941,377\n",
      "Trainable params: 8,941,377\n",
      "Non-trainable params: 0\n",
      "__________________________________________________________________________________________________\n",
      "None\n"
     ]
    }
   ],
   "source": [
    "#Create U-net\n",
    "u_net = create_U_net_classifier_2D(image_size=args['shape'], nchannels=63, n_classes=1, conv_layers=conv_layers, p_spatial_dropout=args['p_spatial_dropout'], metrics=metrics,\n",
    "                               lrate=args['lrate'], loss=args['loss'], activation_conv=args['activation_conv'], activation_out='sigmoid',\n",
    "                                      normalization=(mean, variance))"
   ]
  },
  {
   "cell_type": "code",
   "execution_count": 19,
   "id": "6d348818",
   "metadata": {},
   "outputs": [],
   "source": [
    "#Callbacks\n",
    "early_stopping_cb =keras.callbacks.EarlyStopping(patience=25, restore_best_weights=True,\n",
    "                                                min_delta=0.001, monitor='val_loss')\n",
    "tensorboard_cb= keras.callbacks.TensorBoard(log_dir=join(outdir,'logs'), histogram_freq=1)"
   ]
  },
  {
   "cell_type": "code",
   "execution_count": 20,
   "id": "4584440a",
   "metadata": {},
   "outputs": [
    {
     "data": {
      "text/plain": [
       "<PrefetchDataset element_spec=(TensorSpec(shape=(None, 16, 16, 63), dtype=tf.float64, name=None), TensorSpec(shape=(None, 16, 16, 1), dtype=tf.int64, name=None))>"
      ]
     },
     "execution_count": 20,
     "metadata": {},
     "output_type": "execute_result"
    }
   ],
   "source": [
    "train_ds"
   ]
  },
  {
   "cell_type": "code",
   "execution_count": 21,
   "id": "e14718cd",
   "metadata": {},
   "outputs": [
    {
     "name": "stdout",
     "output_type": "stream",
     "text": [
      "Epoch 1/100\n"
     ]
    },
    {
     "name": "stderr",
     "output_type": "stream",
     "text": [
      "2024-01-19 13:49:10.332325: E tensorflow/core/grappler/optimizers/meta_optimizer.cc:954] layout failed: INVALID_ARGUMENT: Size of values 0 does not match size of permutation 4 @ fanin shape inmodel_2/En_Sp_Dr_0_0/dropout/SelectV2-2-TransposeNHWCToNCHW-LayoutOptimizer\n"
     ]
    },
    {
     "name": "stdout",
     "output_type": "stream",
     "text": [
      "4/4 [==============================] - 2s 284ms/step - loss: 0.6119 - sparse_categorical_accuracy: 0.9413 - Brier score: 0.2095 - auc: 0.4472 - prc: 0.0728 - false_negatives_2: 5152.0000 - false_positives_2: 1522060.0000 - mean_absolute_error: 0.4484 - true_negatives_2: 8156.0000 - true_positives_2: 90232.0000 - val_loss: 0.4339 - val_sparse_categorical_accuracy: 0.9496 - val_Brier score: 0.1267 - val_auc: 0.3566 - val_prc: 0.0369 - val_false_negatives_2: 4904.0000 - val_false_positives_2: 352214.0000 - val_mean_absolute_error: 0.3266 - val_true_negatives_2: 19724.0000 - val_true_positives_2: 14838.0000\n",
      "Epoch 2/100\n",
      "4/4 [==============================] - 1s 197ms/step - loss: 0.4009 - sparse_categorical_accuracy: 0.9413 - Brier score: 0.1088 - auc: 0.3833 - prc: 0.0454 - false_negatives_2: 45997.0000 - false_positives_2: 1059925.0000 - mean_absolute_error: 0.2695 - true_negatives_2: 470291.0000 - true_positives_2: 49387.0000 - val_loss: 0.2819 - val_sparse_categorical_accuracy: 0.9496 - val_Brier score: 0.0714 - val_auc: 0.4729 - val_prc: 0.0457 - val_false_negatives_2: 14217.0000 - val_false_positives_2: 115005.0000 - val_mean_absolute_error: 0.1687 - val_true_negatives_2: 256933.0000 - val_true_positives_2: 5525.0000\n",
      "Epoch 3/100\n",
      "4/4 [==============================] - 1s 193ms/step - loss: 0.3125 - sparse_categorical_accuracy: 0.9413 - Brier score: 0.0733 - auc: 0.4832 - prc: 0.0552 - false_negatives_2: 72080.0000 - false_positives_2: 403279.0000 - mean_absolute_error: 0.1541 - true_negatives_2: 1126937.0000 - true_positives_2: 23304.0000 - val_loss: 0.2176 - val_sparse_categorical_accuracy: 0.9496 - val_Brier score: 0.0572 - val_auc: 0.6779 - val_prc: 0.0752 - val_false_negatives_2: 13387.0000 - val_false_positives_2: 79411.0000 - val_mean_absolute_error: 0.1268 - val_true_negatives_2: 292527.0000 - val_true_positives_2: 6355.0000\n",
      "Epoch 4/100\n",
      "4/4 [==============================] - 1s 197ms/step - loss: 0.2517 - sparse_categorical_accuracy: 0.9413 - Brier score: 0.0634 - auc: 0.6437 - prc: 0.0823 - false_negatives_2: 65471.0000 - false_positives_2: 322457.0000 - mean_absolute_error: 0.1300 - true_negatives_2: 1207759.0000 - true_positives_2: 29913.0000 - val_loss: 0.1845 - val_sparse_categorical_accuracy: 0.9496 - val_Brier score: 0.0495 - val_auc: 0.7956 - val_prc: 0.1351 - val_false_negatives_2: 6381.0000 - val_false_positives_2: 83679.0000 - val_mean_absolute_error: 0.1167 - val_true_negatives_2: 288259.0000 - val_true_positives_2: 13361.0000\n",
      "Epoch 5/100\n",
      "4/4 [==============================] - 1s 193ms/step - loss: 0.2137 - sparse_categorical_accuracy: 0.9413 - Brier score: 0.0572 - auc: 0.7566 - prc: 0.1308 - false_negatives_2: 41748.0000 - false_positives_2: 339284.0000 - mean_absolute_error: 0.1249 - true_negatives_2: 1190932.0000 - true_positives_2: 53636.0000 - val_loss: 0.1698 - val_sparse_categorical_accuracy: 0.9496 - val_Brier score: 0.0454 - val_auc: 0.8491 - val_prc: 0.2205 - val_false_negatives_2: 4424.0000 - val_false_positives_2: 74494.0000 - val_mean_absolute_error: 0.1085 - val_true_negatives_2: 297444.0000 - val_true_positives_2: 15318.0000\n",
      "Epoch 6/100\n",
      "4/4 [==============================] - 1s 193ms/step - loss: 0.1954 - sparse_categorical_accuracy: 0.9413 - Brier score: 0.0528 - auc: 0.8168 - prc: 0.1942 - false_negatives_2: 28241.0000 - false_positives_2: 318359.0000 - mean_absolute_error: 0.1173 - true_negatives_2: 1211857.0000 - true_positives_2: 67143.0000 - val_loss: 0.1612 - val_sparse_categorical_accuracy: 0.9496 - val_Brier score: 0.0429 - val_auc: 0.8674 - val_prc: 0.2754 - val_false_negatives_2: 4457.0000 - val_false_positives_2: 62163.0000 - val_mean_absolute_error: 0.0984 - val_true_negatives_2: 309775.0000 - val_true_positives_2: 15285.0000\n",
      "Epoch 7/100\n",
      "4/4 [==============================] - 1s 198ms/step - loss: 0.1853 - sparse_categorical_accuracy: 0.9413 - Brier score: 0.0500 - auc: 0.8441 - prc: 0.2475 - false_negatives_2: 25595.0000 - false_positives_2: 278160.0000 - mean_absolute_error: 0.1084 - true_negatives_2: 1252056.0000 - true_positives_2: 69789.0000 - val_loss: 0.1575 - val_sparse_categorical_accuracy: 0.9496 - val_Brier score: 0.0414 - val_auc: 0.8745 - val_prc: 0.3046 - val_false_negatives_2: 4717.0000 - val_false_positives_2: 52953.0000 - val_mean_absolute_error: 0.0900 - val_true_negatives_2: 318985.0000 - val_true_positives_2: 15025.0000\n",
      "Epoch 8/100\n",
      "4/4 [==============================] - 1s 195ms/step - loss: 0.1785 - sparse_categorical_accuracy: 0.9413 - Brier score: 0.0481 - auc: 0.8582 - prc: 0.2690 - false_negatives_2: 25236.0000 - false_positives_2: 239126.0000 - mean_absolute_error: 0.1001 - true_negatives_2: 1291090.0000 - true_positives_2: 70148.0000 - val_loss: 0.1563 - val_sparse_categorical_accuracy: 0.9496 - val_Brier score: 0.0407 - val_auc: 0.8778 - val_prc: 0.3213 - val_false_negatives_2: 4906.0000 - val_false_positives_2: 48662.0000 - val_mean_absolute_error: 0.0857 - val_true_negatives_2: 323276.0000 - val_true_positives_2: 14836.0000\n",
      "Epoch 9/100\n",
      "4/4 [==============================] - 1s 196ms/step - loss: 0.1757 - sparse_categorical_accuracy: 0.9413 - Brier score: 0.0469 - auc: 0.8668 - prc: 0.3010 - false_negatives_2: 25145.0000 - false_positives_2: 219547.0000 - mean_absolute_error: 0.0959 - true_negatives_2: 1310669.0000 - true_positives_2: 70239.0000 - val_loss: 0.1539 - val_sparse_categorical_accuracy: 0.9496 - val_Brier score: 0.0406 - val_auc: 0.8808 - val_prc: 0.3326 - val_false_negatives_2: 4881.0000 - val_false_positives_2: 48467.0000 - val_mean_absolute_error: 0.0859 - val_true_negatives_2: 323471.0000 - val_true_positives_2: 14861.0000\n",
      "Epoch 10/100\n",
      "4/4 [==============================] - 1s 195ms/step - loss: 0.1723 - sparse_categorical_accuracy: 0.9413 - Brier score: 0.0467 - auc: 0.8720 - prc: 0.3142 - false_negatives_2: 24426.0000 - false_positives_2: 222970.0000 - mean_absolute_error: 0.0970 - true_negatives_2: 1307246.0000 - true_positives_2: 70958.0000 - val_loss: 0.1514 - val_sparse_categorical_accuracy: 0.9496 - val_Brier score: 0.0409 - val_auc: 0.8842 - val_prc: 0.3407 - val_false_negatives_2: 4692.0000 - val_false_positives_2: 51119.0000 - val_mean_absolute_error: 0.0889 - val_true_negatives_2: 320819.0000 - val_true_positives_2: 15050.0000\n",
      "Epoch 11/100\n",
      "4/4 [==============================] - 1s 191ms/step - loss: 0.1697 - sparse_categorical_accuracy: 0.9413 - Brier score: 0.0467 - auc: 0.8757 - prc: 0.3181 - false_negatives_2: 23140.0000 - false_positives_2: 235073.0000 - mean_absolute_error: 0.1000 - true_negatives_2: 1295143.0000 - true_positives_2: 72244.0000 - val_loss: 0.1494 - val_sparse_categorical_accuracy: 0.9496 - val_Brier score: 0.0408 - val_auc: 0.8853 - val_prc: 0.3447 - val_false_negatives_2: 4711.0000 - val_false_positives_2: 51461.0000 - val_mean_absolute_error: 0.0898 - val_true_negatives_2: 320477.0000 - val_true_positives_2: 15031.0000\n",
      "Epoch 12/100\n",
      "4/4 [==============================] - 1s 195ms/step - loss: 0.1678 - sparse_categorical_accuracy: 0.9413 - Brier score: 0.0464 - auc: 0.8755 - prc: 0.3271 - false_negatives_2: 23391.0000 - false_positives_2: 229131.0000 - mean_absolute_error: 0.0995 - true_negatives_2: 1301085.0000 - true_positives_2: 71993.0000 - val_loss: 0.1472 - val_sparse_categorical_accuracy: 0.9496 - val_Brier score: 0.0402 - val_auc: 0.8847 - val_prc: 0.3465 - val_false_negatives_2: 5093.0000 - val_false_positives_2: 47312.0000 - val_mean_absolute_error: 0.0866 - val_true_negatives_2: 324626.0000 - val_true_positives_2: 14649.0000\n",
      "Epoch 13/100\n",
      "4/4 [==============================] - 1s 201ms/step - loss: 0.1657 - sparse_categorical_accuracy: 0.9413 - Brier score: 0.0458 - auc: 0.8754 - prc: 0.3305 - false_negatives_2: 26810.0000 - false_positives_2: 204451.0000 - mean_absolute_error: 0.0949 - true_negatives_2: 1325765.0000 - true_positives_2: 68574.0000 - val_loss: 0.1455 - val_sparse_categorical_accuracy: 0.9496 - val_Brier score: 0.0396 - val_auc: 0.8841 - val_prc: 0.3475 - val_false_negatives_2: 5599.0000 - val_false_positives_2: 42886.0000 - val_mean_absolute_error: 0.0829 - val_true_negatives_2: 329052.0000 - val_true_positives_2: 14143.0000\n",
      "Epoch 14/100\n"
     ]
    },
    {
     "name": "stdout",
     "output_type": "stream",
     "text": [
      "4/4 [==============================] - 1s 193ms/step - loss: 0.1637 - sparse_categorical_accuracy: 0.9413 - Brier score: 0.0452 - auc: 0.8778 - prc: 0.3406 - false_negatives_2: 28497.0000 - false_positives_2: 184215.0000 - mean_absolute_error: 0.0912 - true_negatives_2: 1346001.0000 - true_positives_2: 66887.0000 - val_loss: 0.1439 - val_sparse_categorical_accuracy: 0.9496 - val_Brier score: 0.0394 - val_auc: 0.8858 - val_prc: 0.3506 - val_false_negatives_2: 5769.0000 - val_false_positives_2: 41495.0000 - val_mean_absolute_error: 0.0821 - val_true_negatives_2: 330443.0000 - val_true_positives_2: 13973.0000\n",
      "Epoch 15/100\n",
      "4/4 [==============================] - 1s 200ms/step - loss: 0.1608 - sparse_categorical_accuracy: 0.9413 - Brier score: 0.0449 - auc: 0.8821 - prc: 0.3441 - false_negatives_2: 28516.0000 - false_positives_2: 184156.0000 - mean_absolute_error: 0.0913 - true_negatives_2: 1346060.0000 - true_positives_2: 66868.0000 - val_loss: 0.1426 - val_sparse_categorical_accuracy: 0.9496 - val_Brier score: 0.0393 - val_auc: 0.8885 - val_prc: 0.3547 - val_false_negatives_2: 5720.0000 - val_false_positives_2: 41354.0000 - val_mean_absolute_error: 0.0823 - val_true_negatives_2: 330584.0000 - val_true_positives_2: 14022.0000\n",
      "Epoch 16/100\n",
      "4/4 [==============================] - 1s 190ms/step - loss: 0.1592 - sparse_categorical_accuracy: 0.9413 - Brier score: 0.0445 - auc: 0.8841 - prc: 0.3626 - false_negatives_2: 28497.0000 - false_positives_2: 178817.0000 - mean_absolute_error: 0.0906 - true_negatives_2: 1351399.0000 - true_positives_2: 66887.0000 - val_loss: 0.1415 - val_sparse_categorical_accuracy: 0.9496 - val_Brier score: 0.0392 - val_auc: 0.8909 - val_prc: 0.3586 - val_false_negatives_2: 5666.0000 - val_false_positives_2: 41040.0000 - val_mean_absolute_error: 0.0819 - val_true_negatives_2: 330898.0000 - val_true_positives_2: 14076.0000\n",
      "Epoch 17/100\n",
      "4/4 [==============================] - 1s 190ms/step - loss: 0.1593 - sparse_categorical_accuracy: 0.9413 - Brier score: 0.0447 - auc: 0.8850 - prc: 0.3597 - false_negatives_2: 29032.0000 - false_positives_2: 181186.0000 - mean_absolute_error: 0.0909 - true_negatives_2: 1349030.0000 - true_positives_2: 66352.0000 - val_loss: 0.1406 - val_sparse_categorical_accuracy: 0.9496 - val_Brier score: 0.0390 - val_auc: 0.8925 - val_prc: 0.3616 - val_false_negatives_2: 5676.0000 - val_false_positives_2: 40051.0000 - val_mean_absolute_error: 0.0810 - val_true_negatives_2: 331887.0000 - val_true_positives_2: 14066.0000\n",
      "Epoch 18/100\n",
      "4/4 [==============================] - 1s 189ms/step - loss: 0.1570 - sparse_categorical_accuracy: 0.9413 - Brier score: 0.0441 - auc: 0.8882 - prc: 0.3715 - false_negatives_2: 28512.0000 - false_positives_2: 173114.0000 - mean_absolute_error: 0.0891 - true_negatives_2: 1357102.0000 - true_positives_2: 66872.0000 - val_loss: 0.1399 - val_sparse_categorical_accuracy: 0.9496 - val_Brier score: 0.0389 - val_auc: 0.8939 - val_prc: 0.3637 - val_false_negatives_2: 5665.0000 - val_false_positives_2: 39641.0000 - val_mean_absolute_error: 0.0807 - val_true_negatives_2: 332297.0000 - val_true_positives_2: 14077.0000\n",
      "Epoch 19/100\n",
      "4/4 [==============================] - 1s 191ms/step - loss: 0.1553 - sparse_categorical_accuracy: 0.9413 - Brier score: 0.0438 - auc: 0.8921 - prc: 0.3762 - false_negatives_2: 26852.0000 - false_positives_2: 175115.0000 - mean_absolute_error: 0.0891 - true_negatives_2: 1355101.0000 - true_positives_2: 68532.0000 - val_loss: 0.1394 - val_sparse_categorical_accuracy: 0.9496 - val_Brier score: 0.0388 - val_auc: 0.8943 - val_prc: 0.3652 - val_false_negatives_2: 5820.0000 - val_false_positives_2: 38393.0000 - val_mean_absolute_error: 0.0796 - val_true_negatives_2: 333545.0000 - val_true_positives_2: 13922.0000\n",
      "Epoch 20/100\n",
      "4/4 [==============================] - 1s 190ms/step - loss: 0.1581 - sparse_categorical_accuracy: 0.9413 - Brier score: 0.0441 - auc: 0.8862 - prc: 0.3639 - false_negatives_2: 29373.0000 - false_positives_2: 165987.0000 - mean_absolute_error: 0.0878 - true_negatives_2: 1364229.0000 - true_positives_2: 66011.0000 - val_loss: 0.1390 - val_sparse_categorical_accuracy: 0.9496 - val_Brier score: 0.0388 - val_auc: 0.8949 - val_prc: 0.3658 - val_false_negatives_2: 5881.0000 - val_false_positives_2: 37931.0000 - val_mean_absolute_error: 0.0794 - val_true_negatives_2: 334007.0000 - val_true_positives_2: 13861.0000\n",
      "Epoch 21/100\n",
      "4/4 [==============================] - 1s 200ms/step - loss: 0.1552 - sparse_categorical_accuracy: 0.9413 - Brier score: 0.0437 - auc: 0.8914 - prc: 0.3738 - false_negatives_2: 28565.0000 - false_positives_2: 165566.0000 - mean_absolute_error: 0.0876 - true_negatives_2: 1364650.0000 - true_positives_2: 66819.0000 - val_loss: 0.1387 - val_sparse_categorical_accuracy: 0.9496 - val_Brier score: 0.0388 - val_auc: 0.8960 - val_prc: 0.3661 - val_false_negatives_2: 5822.0000 - val_false_positives_2: 38395.0000 - val_mean_absolute_error: 0.0801 - val_true_negatives_2: 333543.0000 - val_true_positives_2: 13920.0000\n",
      "Epoch 22/100\n",
      "4/4 [==============================] - 1s 188ms/step - loss: 0.1529 - sparse_categorical_accuracy: 0.9413 - Brier score: 0.0436 - auc: 0.8964 - prc: 0.3789 - false_negatives_2: 28370.0000 - false_positives_2: 165789.0000 - mean_absolute_error: 0.0881 - true_negatives_2: 1364427.0000 - true_positives_2: 67014.0000 - val_loss: 0.1385 - val_sparse_categorical_accuracy: 0.9496 - val_Brier score: 0.0387 - val_auc: 0.8967 - val_prc: 0.3667 - val_false_negatives_2: 5836.0000 - val_false_positives_2: 38312.0000 - val_mean_absolute_error: 0.0802 - val_true_negatives_2: 333626.0000 - val_true_positives_2: 13906.0000\n",
      "Epoch 23/100\n",
      "4/4 [==============================] - 1s 199ms/step - loss: 0.1531 - sparse_categorical_accuracy: 0.9413 - Brier score: 0.0435 - auc: 0.8951 - prc: 0.3782 - false_negatives_2: 28073.0000 - false_positives_2: 166365.0000 - mean_absolute_error: 0.0882 - true_negatives_2: 1363851.0000 - true_positives_2: 67311.0000 - val_loss: 0.1381 - val_sparse_categorical_accuracy: 0.9496 - val_Brier score: 0.0386 - val_auc: 0.8963 - val_prc: 0.3675 - val_false_negatives_2: 6036.0000 - val_false_positives_2: 36479.0000 - val_mean_absolute_error: 0.0784 - val_true_negatives_2: 335459.0000 - val_true_positives_2: 13706.0000\n",
      "Epoch 24/100\n",
      "4/4 [==============================] - 1s 201ms/step - loss: 0.1525 - sparse_categorical_accuracy: 0.9413 - Brier score: 0.0431 - auc: 0.8961 - prc: 0.3904 - false_negatives_2: 29447.0000 - false_positives_2: 154829.0000 - mean_absolute_error: 0.0851 - true_negatives_2: 1375387.0000 - true_positives_2: 65937.0000 - val_loss: 0.1380 - val_sparse_categorical_accuracy: 0.9496 - val_Brier score: 0.0385 - val_auc: 0.8962 - val_prc: 0.3680 - val_false_negatives_2: 6158.0000 - val_false_positives_2: 35589.0000 - val_mean_absolute_error: 0.0775 - val_true_negatives_2: 336349.0000 - val_true_positives_2: 13584.0000\n",
      "Epoch 25/100\n",
      "4/4 [==============================] - 1s 198ms/step - loss: 0.1524 - sparse_categorical_accuracy: 0.9413 - Brier score: 0.0432 - auc: 0.8964 - prc: 0.3882 - false_negatives_2: 29854.0000 - false_positives_2: 153894.0000 - mean_absolute_error: 0.0853 - true_negatives_2: 1376322.0000 - true_positives_2: 65530.0000 - val_loss: 0.1380 - val_sparse_categorical_accuracy: 0.9496 - val_Brier score: 0.0386 - val_auc: 0.8972 - val_prc: 0.3685 - val_false_negatives_2: 5944.0000 - val_false_positives_2: 36939.0000 - val_mean_absolute_error: 0.0787 - val_true_negatives_2: 334999.0000 - val_true_positives_2: 13798.0000\n",
      "Epoch 26/100\n",
      "4/4 [==============================] - 1s 191ms/step - loss: 0.1518 - sparse_categorical_accuracy: 0.9413 - Brier score: 0.0431 - auc: 0.8970 - prc: 0.3872 - false_negatives_2: 28635.0000 - false_positives_2: 154863.0000 - mean_absolute_error: 0.0859 - true_negatives_2: 1375353.0000 - true_positives_2: 66749.0000 - val_loss: 0.1380 - val_sparse_categorical_accuracy: 0.9496 - val_Brier score: 0.0387 - val_auc: 0.8984 - val_prc: 0.3695 - val_false_negatives_2: 5738.0000 - val_false_positives_2: 38286.0000 - val_mean_absolute_error: 0.0800 - val_true_negatives_2: 333652.0000 - val_true_positives_2: 14004.0000\n",
      "Epoch 27/100\n"
     ]
    },
    {
     "name": "stdout",
     "output_type": "stream",
     "text": [
      "4/4 [==============================] - 1s 192ms/step - loss: 0.1522 - sparse_categorical_accuracy: 0.9413 - Brier score: 0.0433 - auc: 0.8970 - prc: 0.3855 - false_negatives_2: 27663.0000 - false_positives_2: 165732.0000 - mean_absolute_error: 0.0878 - true_negatives_2: 1364484.0000 - true_positives_2: 67721.0000 - val_loss: 0.1377 - val_sparse_categorical_accuracy: 0.9496 - val_Brier score: 0.0386 - val_auc: 0.8982 - val_prc: 0.3708 - val_false_negatives_2: 5900.0000 - val_false_positives_2: 37013.0000 - val_mean_absolute_error: 0.0787 - val_true_negatives_2: 334925.0000 - val_true_positives_2: 13842.0000\n",
      "Epoch 28/100\n",
      "4/4 [==============================] - 1s 194ms/step - loss: 0.1521 - sparse_categorical_accuracy: 0.9413 - Brier score: 0.0433 - auc: 0.8967 - prc: 0.3833 - false_negatives_2: 28714.0000 - false_positives_2: 156395.0000 - mean_absolute_error: 0.0855 - true_negatives_2: 1373821.0000 - true_positives_2: 66670.0000 - val_loss: 0.1376 - val_sparse_categorical_accuracy: 0.9496 - val_Brier score: 0.0384 - val_auc: 0.8980 - val_prc: 0.3720 - val_false_negatives_2: 6099.0000 - val_false_positives_2: 35655.0000 - val_mean_absolute_error: 0.0773 - val_true_negatives_2: 336283.0000 - val_true_positives_2: 13643.0000\n",
      "Epoch 29/100\n",
      "4/4 [==============================] - 1s 192ms/step - loss: 0.1501 - sparse_categorical_accuracy: 0.9413 - Brier score: 0.0428 - auc: 0.9007 - prc: 0.3981 - false_negatives_2: 28724.0000 - false_positives_2: 152833.0000 - mean_absolute_error: 0.0846 - true_negatives_2: 1377383.0000 - true_positives_2: 66660.0000 - val_loss: 0.1373 - val_sparse_categorical_accuracy: 0.9496 - val_Brier score: 0.0385 - val_auc: 0.8994 - val_prc: 0.3729 - val_false_negatives_2: 5772.0000 - val_false_positives_2: 37361.0000 - val_mean_absolute_error: 0.0790 - val_true_negatives_2: 334577.0000 - val_true_positives_2: 13970.0000\n",
      "Epoch 30/100\n",
      "4/4 [==============================] - 1s 191ms/step - loss: 0.1505 - sparse_categorical_accuracy: 0.9413 - Brier score: 0.0430 - auc: 0.9000 - prc: 0.3934 - false_negatives_2: 27913.0000 - false_positives_2: 158357.0000 - mean_absolute_error: 0.0861 - true_negatives_2: 1371859.0000 - true_positives_2: 67471.0000 - val_loss: 0.1371 - val_sparse_categorical_accuracy: 0.9496 - val_Brier score: 0.0385 - val_auc: 0.9003 - val_prc: 0.3741 - val_false_negatives_2: 5597.0000 - val_false_positives_2: 38095.0000 - val_mean_absolute_error: 0.0797 - val_true_negatives_2: 333843.0000 - val_true_positives_2: 14145.0000\n",
      "Epoch 31/100\n",
      "4/4 [==============================] - 1s 196ms/step - loss: 0.1491 - sparse_categorical_accuracy: 0.9413 - Brier score: 0.0426 - auc: 0.9027 - prc: 0.4053 - false_negatives_2: 27525.0000 - false_positives_2: 159037.0000 - mean_absolute_error: 0.0857 - true_negatives_2: 1371179.0000 - true_positives_2: 67859.0000 - val_loss: 0.1368 - val_sparse_categorical_accuracy: 0.9496 - val_Brier score: 0.0383 - val_auc: 0.9000 - val_prc: 0.3757 - val_false_negatives_2: 5836.0000 - val_false_positives_2: 36256.0000 - val_mean_absolute_error: 0.0776 - val_true_negatives_2: 335682.0000 - val_true_positives_2: 13906.0000\n",
      "Epoch 32/100\n",
      "4/4 [==============================] - 1s 197ms/step - loss: 0.1480 - sparse_categorical_accuracy: 0.9413 - Brier score: 0.0425 - auc: 0.9042 - prc: 0.4006 - false_negatives_2: 28888.0000 - false_positives_2: 146388.0000 - mean_absolute_error: 0.0832 - true_negatives_2: 1383828.0000 - true_positives_2: 66496.0000 - val_loss: 0.1368 - val_sparse_categorical_accuracy: 0.9496 - val_Brier score: 0.0382 - val_auc: 0.8999 - val_prc: 0.3766 - val_false_negatives_2: 5917.0000 - val_false_positives_2: 35747.0000 - val_mean_absolute_error: 0.0770 - val_true_negatives_2: 336191.0000 - val_true_positives_2: 13825.0000\n",
      "Epoch 33/100\n",
      "4/4 [==============================] - 1s 194ms/step - loss: 0.1481 - sparse_categorical_accuracy: 0.9413 - Brier score: 0.0424 - auc: 0.9034 - prc: 0.4083 - false_negatives_2: 28488.0000 - false_positives_2: 149216.0000 - mean_absolute_error: 0.0834 - true_negatives_2: 1381000.0000 - true_positives_2: 66896.0000 - val_loss: 0.1371 - val_sparse_categorical_accuracy: 0.9496 - val_Brier score: 0.0385 - val_auc: 0.9007 - val_prc: 0.3766 - val_false_negatives_2: 5562.0000 - val_false_positives_2: 38052.0000 - val_mean_absolute_error: 0.0792 - val_true_negatives_2: 333886.0000 - val_true_positives_2: 14180.0000\n",
      "Epoch 34/100\n",
      "4/4 [==============================] - 1s 197ms/step - loss: 0.1460 - sparse_categorical_accuracy: 0.9413 - Brier score: 0.0421 - auc: 0.9086 - prc: 0.4086 - false_negatives_2: 26137.0000 - false_positives_2: 154272.0000 - mean_absolute_error: 0.0847 - true_negatives_2: 1375944.0000 - true_positives_2: 69247.0000 - val_loss: 0.1371 - val_sparse_categorical_accuracy: 0.9496 - val_Brier score: 0.0384 - val_auc: 0.9006 - val_prc: 0.3774 - val_false_negatives_2: 5689.0000 - val_false_positives_2: 37089.0000 - val_mean_absolute_error: 0.0781 - val_true_negatives_2: 334849.0000 - val_true_positives_2: 14053.0000\n",
      "Epoch 35/100\n",
      "4/4 [==============================] - 1s 200ms/step - loss: 0.1469 - sparse_categorical_accuracy: 0.9413 - Brier score: 0.0421 - auc: 0.9064 - prc: 0.4156 - false_negatives_2: 27820.0000 - false_positives_2: 146945.0000 - mean_absolute_error: 0.0829 - true_negatives_2: 1383271.0000 - true_positives_2: 67564.0000 - val_loss: 0.1369 - val_sparse_categorical_accuracy: 0.9496 - val_Brier score: 0.0382 - val_auc: 0.9003 - val_prc: 0.3782 - val_false_negatives_2: 5925.0000 - val_false_positives_2: 35529.0000 - val_mean_absolute_error: 0.0765 - val_true_negatives_2: 336409.0000 - val_true_positives_2: 13817.0000\n",
      "Epoch 36/100\n",
      "4/4 [==============================] - 1s 194ms/step - loss: 0.1470 - sparse_categorical_accuracy: 0.9413 - Brier score: 0.0421 - auc: 0.9062 - prc: 0.4097 - false_negatives_2: 28549.0000 - false_positives_2: 141708.0000 - mean_absolute_error: 0.0821 - true_negatives_2: 1388508.0000 - true_positives_2: 66835.0000 - val_loss: 0.1366 - val_sparse_categorical_accuracy: 0.9496 - val_Brier score: 0.0383 - val_auc: 0.9013 - val_prc: 0.3785 - val_false_negatives_2: 5702.0000 - val_false_positives_2: 37107.0000 - val_mean_absolute_error: 0.0781 - val_true_negatives_2: 334831.0000 - val_true_positives_2: 14040.0000\n",
      "Epoch 37/100\n",
      "4/4 [==============================] - 1s 203ms/step - loss: 0.1466 - sparse_categorical_accuracy: 0.9413 - Brier score: 0.0418 - auc: 0.9061 - prc: 0.4215 - false_negatives_2: 27401.0000 - false_positives_2: 149110.0000 - mean_absolute_error: 0.0834 - true_negatives_2: 1381106.0000 - true_positives_2: 67983.0000 - val_loss: 0.1364 - val_sparse_categorical_accuracy: 0.9496 - val_Brier score: 0.0383 - val_auc: 0.9017 - val_prc: 0.3789 - val_false_negatives_2: 5660.0000 - val_false_positives_2: 37368.0000 - val_mean_absolute_error: 0.0784 - val_true_negatives_2: 334570.0000 - val_true_positives_2: 14082.0000\n",
      "Epoch 38/100\n",
      "4/4 [==============================] - 1s 191ms/step - loss: 0.1465 - sparse_categorical_accuracy: 0.9413 - Brier score: 0.0419 - auc: 0.9064 - prc: 0.4177 - false_negatives_2: 27322.0000 - false_positives_2: 149698.0000 - mean_absolute_error: 0.0837 - true_negatives_2: 1380518.0000 - true_positives_2: 68062.0000 - val_loss: 0.1363 - val_sparse_categorical_accuracy: 0.9496 - val_Brier score: 0.0382 - val_auc: 0.9015 - val_prc: 0.3799 - val_false_negatives_2: 5765.0000 - val_false_positives_2: 36389.0000 - val_mean_absolute_error: 0.0773 - val_true_negatives_2: 335549.0000 - val_true_positives_2: 13977.0000\n",
      "Epoch 39/100\n",
      "4/4 [==============================] - 1s 193ms/step - loss: 0.1451 - sparse_categorical_accuracy: 0.9413 - Brier score: 0.0418 - auc: 0.9096 - prc: 0.4189 - false_negatives_2: 27669.0000 - false_positives_2: 145754.0000 - mean_absolute_error: 0.0823 - true_negatives_2: 1384462.0000 - true_positives_2: 67715.0000 - val_loss: 0.1362 - val_sparse_categorical_accuracy: 0.9496 - val_Brier score: 0.0381 - val_auc: 0.9015 - val_prc: 0.3807 - val_false_negatives_2: 5819.0000 - val_false_positives_2: 35792.0000 - val_mean_absolute_error: 0.0765 - val_true_negatives_2: 336146.0000 - val_true_positives_2: 13923.0000\n",
      "Epoch 40/100\n"
     ]
    },
    {
     "name": "stdout",
     "output_type": "stream",
     "text": [
      "4/4 [==============================] - 1s 192ms/step - loss: 0.1449 - sparse_categorical_accuracy: 0.9413 - Brier score: 0.0418 - auc: 0.9095 - prc: 0.4212 - false_negatives_2: 27885.0000 - false_positives_2: 144456.0000 - mean_absolute_error: 0.0821 - true_negatives_2: 1385760.0000 - true_positives_2: 67499.0000 - val_loss: 0.1362 - val_sparse_categorical_accuracy: 0.9496 - val_Brier score: 0.0383 - val_auc: 0.9028 - val_prc: 0.3814 - val_false_negatives_2: 5505.0000 - val_false_positives_2: 37611.0000 - val_mean_absolute_error: 0.0781 - val_true_negatives_2: 334327.0000 - val_true_positives_2: 14237.0000\n",
      "Epoch 41/100\n",
      "4/4 [==============================] - 1s 190ms/step - loss: 0.1447 - sparse_categorical_accuracy: 0.9413 - Brier score: 0.0417 - auc: 0.9103 - prc: 0.4227 - false_negatives_2: 25866.0000 - false_positives_2: 153396.0000 - mean_absolute_error: 0.0836 - true_negatives_2: 1376820.0000 - true_positives_2: 69518.0000 - val_loss: 0.1359 - val_sparse_categorical_accuracy: 0.9496 - val_Brier score: 0.0382 - val_auc: 0.9030 - val_prc: 0.3824 - val_false_negatives_2: 5590.0000 - val_false_positives_2: 36877.0000 - val_mean_absolute_error: 0.0772 - val_true_negatives_2: 335061.0000 - val_true_positives_2: 14152.0000\n",
      "Epoch 42/100\n",
      "4/4 [==============================] - 1s 192ms/step - loss: 0.1445 - sparse_categorical_accuracy: 0.9413 - Brier score: 0.0416 - auc: 0.9100 - prc: 0.4233 - false_negatives_2: 27394.0000 - false_positives_2: 146177.0000 - mean_absolute_error: 0.0820 - true_negatives_2: 1384039.0000 - true_positives_2: 67990.0000 - val_loss: 0.1357 - val_sparse_categorical_accuracy: 0.9496 - val_Brier score: 0.0381 - val_auc: 0.9031 - val_prc: 0.3830 - val_false_negatives_2: 5646.0000 - val_false_positives_2: 36665.0000 - val_mean_absolute_error: 0.0770 - val_true_negatives_2: 335273.0000 - val_true_positives_2: 14096.0000\n",
      "Epoch 43/100\n",
      "4/4 [==============================] - 1s 194ms/step - loss: 0.1450 - sparse_categorical_accuracy: 0.9413 - Brier score: 0.0418 - auc: 0.9094 - prc: 0.4190 - false_negatives_2: 26727.0000 - false_positives_2: 147268.0000 - mean_absolute_error: 0.0824 - true_negatives_2: 1382948.0000 - true_positives_2: 68657.0000 - val_loss: 0.1357 - val_sparse_categorical_accuracy: 0.9496 - val_Brier score: 0.0381 - val_auc: 0.9033 - val_prc: 0.3835 - val_false_negatives_2: 5590.0000 - val_false_positives_2: 37222.0000 - val_mean_absolute_error: 0.0777 - val_true_negatives_2: 334716.0000 - val_true_positives_2: 14152.0000\n",
      "Epoch 44/100\n",
      "4/4 [==============================] - 1s 195ms/step - loss: 0.1437 - sparse_categorical_accuracy: 0.9413 - Brier score: 0.0414 - auc: 0.9115 - prc: 0.4317 - false_negatives_2: 26917.0000 - false_positives_2: 145217.0000 - mean_absolute_error: 0.0818 - true_negatives_2: 1384999.0000 - true_positives_2: 68467.0000 - val_loss: 0.1357 - val_sparse_categorical_accuracy: 0.9496 - val_Brier score: 0.0380 - val_auc: 0.9027 - val_prc: 0.3843 - val_false_negatives_2: 5724.0000 - val_false_positives_2: 36070.0000 - val_mean_absolute_error: 0.0766 - val_true_negatives_2: 335868.0000 - val_true_positives_2: 14018.0000\n",
      "Epoch 45/100\n",
      "4/4 [==============================] - 1s 192ms/step - loss: 0.1427 - sparse_categorical_accuracy: 0.9413 - Brier score: 0.0413 - auc: 0.9131 - prc: 0.4297 - false_negatives_2: 27660.0000 - false_positives_2: 139000.0000 - mean_absolute_error: 0.0807 - true_negatives_2: 1391216.0000 - true_positives_2: 67724.0000 - val_loss: 0.1359 - val_sparse_categorical_accuracy: 0.9496 - val_Brier score: 0.0380 - val_auc: 0.9027 - val_prc: 0.3848 - val_false_negatives_2: 5701.0000 - val_false_positives_2: 36038.0000 - val_mean_absolute_error: 0.0765 - val_true_negatives_2: 335900.0000 - val_true_positives_2: 14041.0000\n",
      "Epoch 46/100\n",
      "4/4 [==============================] - 1s 190ms/step - loss: 0.1425 - sparse_categorical_accuracy: 0.9413 - Brier score: 0.0411 - auc: 0.9135 - prc: 0.4356 - false_negatives_2: 27290.0000 - false_positives_2: 140472.0000 - mean_absolute_error: 0.0809 - true_negatives_2: 1389744.0000 - true_positives_2: 68094.0000 - val_loss: 0.1361 - val_sparse_categorical_accuracy: 0.9496 - val_Brier score: 0.0381 - val_auc: 0.9030 - val_prc: 0.3850 - val_false_negatives_2: 5551.0000 - val_false_positives_2: 36888.0000 - val_mean_absolute_error: 0.0772 - val_true_negatives_2: 335050.0000 - val_true_positives_2: 14191.0000\n",
      "Epoch 47/100\n",
      "4/4 [==============================] - 1s 194ms/step - loss: 0.1432 - sparse_categorical_accuracy: 0.9413 - Brier score: 0.0413 - auc: 0.9115 - prc: 0.4307 - false_negatives_2: 26085.0000 - false_positives_2: 145377.0000 - mean_absolute_error: 0.0817 - true_negatives_2: 1384839.0000 - true_positives_2: 69299.0000 - val_loss: 0.1360 - val_sparse_categorical_accuracy: 0.9496 - val_Brier score: 0.0381 - val_auc: 0.9033 - val_prc: 0.3860 - val_false_negatives_2: 5583.0000 - val_false_positives_2: 36469.0000 - val_mean_absolute_error: 0.0767 - val_true_negatives_2: 335469.0000 - val_true_positives_2: 14159.0000\n",
      "Epoch 48/100\n",
      "4/4 [==============================] - 1s 197ms/step - loss: 0.1425 - sparse_categorical_accuracy: 0.9413 - Brier score: 0.0410 - auc: 0.9124 - prc: 0.4443 - false_negatives_2: 27336.0000 - false_positives_2: 140933.0000 - mean_absolute_error: 0.0806 - true_negatives_2: 1389283.0000 - true_positives_2: 68048.0000 - val_loss: 0.1357 - val_sparse_categorical_accuracy: 0.9496 - val_Brier score: 0.0381 - val_auc: 0.9041 - val_prc: 0.3869 - val_false_negatives_2: 5485.0000 - val_false_positives_2: 36968.0000 - val_mean_absolute_error: 0.0772 - val_true_negatives_2: 334970.0000 - val_true_positives_2: 14257.0000\n",
      "Epoch 49/100\n",
      "4/4 [==============================] - 1s 193ms/step - loss: 0.1415 - sparse_categorical_accuracy: 0.9413 - Brier score: 0.0411 - auc: 0.9159 - prc: 0.4352 - false_negatives_2: 26303.0000 - false_positives_2: 145293.0000 - mean_absolute_error: 0.0814 - true_negatives_2: 1384923.0000 - true_positives_2: 69081.0000 - val_loss: 0.1356 - val_sparse_categorical_accuracy: 0.9496 - val_Brier score: 0.0380 - val_auc: 0.9041 - val_prc: 0.3877 - val_false_negatives_2: 5640.0000 - val_false_positives_2: 35789.0000 - val_mean_absolute_error: 0.0760 - val_true_negatives_2: 336149.0000 - val_true_positives_2: 14102.0000\n",
      "Epoch 50/100\n",
      "4/4 [==============================] - 1s 199ms/step - loss: 0.1421 - sparse_categorical_accuracy: 0.9413 - Brier score: 0.0409 - auc: 0.9140 - prc: 0.4394 - false_negatives_2: 26939.0000 - false_positives_2: 138942.0000 - mean_absolute_error: 0.0798 - true_negatives_2: 1391274.0000 - true_positives_2: 68445.0000 - val_loss: 0.1355 - val_sparse_categorical_accuracy: 0.9496 - val_Brier score: 0.0380 - val_auc: 0.9044 - val_prc: 0.3885 - val_false_negatives_2: 5624.0000 - val_false_positives_2: 35763.0000 - val_mean_absolute_error: 0.0758 - val_true_negatives_2: 336175.0000 - val_true_positives_2: 14118.0000\n",
      "Epoch 51/100\n",
      "4/4 [==============================] - 1s 200ms/step - loss: 0.1426 - sparse_categorical_accuracy: 0.9413 - Brier score: 0.0412 - auc: 0.9144 - prc: 0.4315 - false_negatives_2: 26927.0000 - false_positives_2: 140325.0000 - mean_absolute_error: 0.0806 - true_negatives_2: 1389891.0000 - true_positives_2: 68457.0000 - val_loss: 0.1353 - val_sparse_categorical_accuracy: 0.9496 - val_Brier score: 0.0380 - val_auc: 0.9056 - val_prc: 0.3892 - val_false_negatives_2: 5377.0000 - val_false_positives_2: 37296.0000 - val_mean_absolute_error: 0.0772 - val_true_negatives_2: 334642.0000 - val_true_positives_2: 14365.0000\n",
      "Epoch 52/100\n",
      "4/4 [==============================] - 1s 202ms/step - loss: 0.1418 - sparse_categorical_accuracy: 0.9413 - Brier score: 0.0410 - auc: 0.9150 - prc: 0.4416 - false_negatives_2: 26132.0000 - false_positives_2: 146270.0000 - mean_absolute_error: 0.0816 - true_negatives_2: 1383946.0000 - true_positives_2: 69252.0000 - val_loss: 0.1352 - val_sparse_categorical_accuracy: 0.9496 - val_Brier score: 0.0380 - val_auc: 0.9054 - val_prc: 0.3890 - val_false_negatives_2: 5395.0000 - val_false_positives_2: 37376.0000 - val_mean_absolute_error: 0.0771 - val_true_negatives_2: 334562.0000 - val_true_positives_2: 14347.0000\n",
      "Epoch 53/100\n"
     ]
    },
    {
     "name": "stdout",
     "output_type": "stream",
     "text": [
      "4/4 [==============================] - 1s 199ms/step - loss: 0.1407 - sparse_categorical_accuracy: 0.9413 - Brier score: 0.0408 - auc: 0.9168 - prc: 0.4456 - false_negatives_2: 26330.0000 - false_positives_2: 143735.0000 - mean_absolute_error: 0.0808 - true_negatives_2: 1386481.0000 - true_positives_2: 69054.0000 - val_loss: 0.1353 - val_sparse_categorical_accuracy: 0.9496 - val_Brier score: 0.0378 - val_auc: 0.9046 - val_prc: 0.3887 - val_false_negatives_2: 5653.0000 - val_false_positives_2: 35925.0000 - val_mean_absolute_error: 0.0757 - val_true_negatives_2: 336013.0000 - val_true_positives_2: 14089.0000\n",
      "Epoch 54/100\n",
      "4/4 [==============================] - 1s 198ms/step - loss: 0.1397 - sparse_categorical_accuracy: 0.9413 - Brier score: 0.0404 - auc: 0.9174 - prc: 0.4524 - false_negatives_2: 26128.0000 - false_positives_2: 137242.0000 - mean_absolute_error: 0.0795 - true_negatives_2: 1392974.0000 - true_positives_2: 69256.0000 - val_loss: 0.1358 - val_sparse_categorical_accuracy: 0.9496 - val_Brier score: 0.0381 - val_auc: 0.9044 - val_prc: 0.3871 - val_false_negatives_2: 5514.0000 - val_false_positives_2: 37351.0000 - val_mean_absolute_error: 0.0770 - val_true_negatives_2: 334587.0000 - val_true_positives_2: 14228.0000\n",
      "Epoch 55/100\n",
      "4/4 [==============================] - 1s 197ms/step - loss: 0.1399 - sparse_categorical_accuracy: 0.9413 - Brier score: 0.0406 - auc: 0.9181 - prc: 0.4473 - false_negatives_2: 25376.0000 - false_positives_2: 142474.0000 - mean_absolute_error: 0.0805 - true_negatives_2: 1387742.0000 - true_positives_2: 70008.0000 - val_loss: 0.1362 - val_sparse_categorical_accuracy: 0.9496 - val_Brier score: 0.0382 - val_auc: 0.9041 - val_prc: 0.3860 - val_false_negatives_2: 5529.0000 - val_false_positives_2: 37509.0000 - val_mean_absolute_error: 0.0772 - val_true_negatives_2: 334429.0000 - val_true_positives_2: 14213.0000\n",
      "Epoch 56/100\n",
      "4/4 [==============================] - 1s 194ms/step - loss: 0.1392 - sparse_categorical_accuracy: 0.9413 - Brier score: 0.0404 - auc: 0.9187 - prc: 0.4518 - false_negatives_2: 25276.0000 - false_positives_2: 141616.0000 - mean_absolute_error: 0.0801 - true_negatives_2: 1388600.0000 - true_positives_2: 70108.0000 - val_loss: 0.1361 - val_sparse_categorical_accuracy: 0.9496 - val_Brier score: 0.0380 - val_auc: 0.9038 - val_prc: 0.3871 - val_false_negatives_2: 5797.0000 - val_false_positives_2: 35322.0000 - val_mean_absolute_error: 0.0751 - val_true_negatives_2: 336616.0000 - val_true_positives_2: 13945.0000\n",
      "Epoch 57/100\n",
      "4/4 [==============================] - 1s 195ms/step - loss: 0.1401 - sparse_categorical_accuracy: 0.9413 - Brier score: 0.0405 - auc: 0.9168 - prc: 0.4513 - false_negatives_2: 27573.0000 - false_positives_2: 133072.0000 - mean_absolute_error: 0.0784 - true_negatives_2: 1397144.0000 - true_positives_2: 67811.0000 - val_loss: 0.1358 - val_sparse_categorical_accuracy: 0.9496 - val_Brier score: 0.0381 - val_auc: 0.9049 - val_prc: 0.3886 - val_false_negatives_2: 5478.0000 - val_false_positives_2: 37113.0000 - val_mean_absolute_error: 0.0767 - val_true_negatives_2: 334825.0000 - val_true_positives_2: 14264.0000\n",
      "Epoch 58/100\n",
      "4/4 [==============================] - 1s 198ms/step - loss: 0.1393 - sparse_categorical_accuracy: 0.9413 - Brier score: 0.0404 - auc: 0.9187 - prc: 0.4508 - false_negatives_2: 24534.0000 - false_positives_2: 146614.0000 - mean_absolute_error: 0.0808 - true_negatives_2: 1383602.0000 - true_positives_2: 70850.0000 - val_loss: 0.1355 - val_sparse_categorical_accuracy: 0.9496 - val_Brier score: 0.0380 - val_auc: 0.9054 - val_prc: 0.3905 - val_false_negatives_2: 5429.0000 - val_false_positives_2: 37019.0000 - val_mean_absolute_error: 0.0765 - val_true_negatives_2: 334919.0000 - val_true_positives_2: 14313.0000\n",
      "Epoch 59/100\n",
      "4/4 [==============================] - 1s 199ms/step - loss: 0.1397 - sparse_categorical_accuracy: 0.9413 - Brier score: 0.0404 - auc: 0.9168 - prc: 0.4508 - false_negatives_2: 26287.0000 - false_positives_2: 138294.0000 - mean_absolute_error: 0.0793 - true_negatives_2: 1391922.0000 - true_positives_2: 69097.0000 - val_loss: 0.1356 - val_sparse_categorical_accuracy: 0.9496 - val_Brier score: 0.0379 - val_auc: 0.9050 - val_prc: 0.3911 - val_false_negatives_2: 5587.0000 - val_false_positives_2: 35878.0000 - val_mean_absolute_error: 0.0753 - val_true_negatives_2: 336060.0000 - val_true_positives_2: 14155.0000\n",
      "Epoch 60/100\n",
      "4/4 [==============================] - 1s 196ms/step - loss: 0.1388 - sparse_categorical_accuracy: 0.9413 - Brier score: 0.0404 - auc: 0.9198 - prc: 0.4494 - false_negatives_2: 26207.0000 - false_positives_2: 138353.0000 - mean_absolute_error: 0.0789 - true_negatives_2: 1391863.0000 - true_positives_2: 69177.0000 - val_loss: 0.1358 - val_sparse_categorical_accuracy: 0.9496 - val_Brier score: 0.0380 - val_auc: 0.9053 - val_prc: 0.3903 - val_false_negatives_2: 5434.0000 - val_false_positives_2: 37268.0000 - val_mean_absolute_error: 0.0767 - val_true_negatives_2: 334670.0000 - val_true_positives_2: 14308.0000\n",
      "Epoch 61/100\n",
      "4/4 [==============================] - 1s 190ms/step - loss: 0.1365 - sparse_categorical_accuracy: 0.9413 - Brier score: 0.0397 - auc: 0.9229 - prc: 0.4694 - false_negatives_2: 24113.0000 - false_positives_2: 143118.0000 - mean_absolute_error: 0.0799 - true_negatives_2: 1387098.0000 - true_positives_2: 71271.0000 - val_loss: 0.1354 - val_sparse_categorical_accuracy: 0.9496 - val_Brier score: 0.0378 - val_auc: 0.9051 - val_prc: 0.3909 - val_false_negatives_2: 5698.0000 - val_false_positives_2: 35531.0000 - val_mean_absolute_error: 0.0751 - val_true_negatives_2: 336407.0000 - val_true_positives_2: 14044.0000\n",
      "Epoch 62/100\n",
      "4/4 [==============================] - 1s 194ms/step - loss: 0.1399 - sparse_categorical_accuracy: 0.9413 - Brier score: 0.0404 - auc: 0.9177 - prc: 0.4532 - false_negatives_2: 27123.0000 - false_positives_2: 135903.0000 - mean_absolute_error: 0.0785 - true_negatives_2: 1394313.0000 - true_positives_2: 68261.0000 - val_loss: 0.1360 - val_sparse_categorical_accuracy: 0.9496 - val_Brier score: 0.0379 - val_auc: 0.9045 - val_prc: 0.3908 - val_false_negatives_2: 5805.0000 - val_false_positives_2: 34735.0000 - val_mean_absolute_error: 0.0741 - val_true_negatives_2: 337203.0000 - val_true_positives_2: 13937.0000\n",
      "Epoch 63/100\n",
      "4/4 [==============================] - 1s 200ms/step - loss: 0.1386 - sparse_categorical_accuracy: 0.9413 - Brier score: 0.0401 - auc: 0.9197 - prc: 0.4608 - false_negatives_2: 25621.0000 - false_positives_2: 140109.0000 - mean_absolute_error: 0.0788 - true_negatives_2: 1390107.0000 - true_positives_2: 69763.0000 - val_loss: 0.1362 - val_sparse_categorical_accuracy: 0.9496 - val_Brier score: 0.0382 - val_auc: 0.9047 - val_prc: 0.3900 - val_false_negatives_2: 5606.0000 - val_false_positives_2: 36199.0000 - val_mean_absolute_error: 0.0755 - val_true_negatives_2: 335739.0000 - val_true_positives_2: 14136.0000\n",
      "Epoch 64/100\n",
      "4/4 [==============================] - 1s 190ms/step - loss: 0.1373 - sparse_categorical_accuracy: 0.9413 - Brier score: 0.0400 - auc: 0.9215 - prc: 0.4619 - false_negatives_2: 25082.0000 - false_positives_2: 138694.0000 - mean_absolute_error: 0.0786 - true_negatives_2: 1391522.0000 - true_positives_2: 70302.0000 - val_loss: 0.1358 - val_sparse_categorical_accuracy: 0.9496 - val_Brier score: 0.0379 - val_auc: 0.9047 - val_prc: 0.3906 - val_false_negatives_2: 5849.0000 - val_false_positives_2: 34289.0000 - val_mean_absolute_error: 0.0738 - val_true_negatives_2: 337649.0000 - val_true_positives_2: 13893.0000\n",
      "Epoch 65/100\n",
      "4/4 [==============================] - 1s 192ms/step - loss: 0.1373 - sparse_categorical_accuracy: 0.9413 - Brier score: 0.0400 - auc: 0.9221 - prc: 0.4589 - false_negatives_2: 25594.0000 - false_positives_2: 135504.0000 - mean_absolute_error: 0.0783 - true_negatives_2: 1394712.0000 - true_positives_2: 69790.0000 - val_loss: 0.1350 - val_sparse_categorical_accuracy: 0.9496 - val_Brier score: 0.0379 - val_auc: 0.9062 - val_prc: 0.3909 - val_false_negatives_2: 5623.0000 - val_false_positives_2: 36203.0000 - val_mean_absolute_error: 0.0758 - val_true_negatives_2: 335735.0000 - val_true_positives_2: 14119.0000\n",
      "Epoch 66/100\n"
     ]
    },
    {
     "name": "stdout",
     "output_type": "stream",
     "text": [
      "4/4 [==============================] - 1s 191ms/step - loss: 0.1366 - sparse_categorical_accuracy: 0.9413 - Brier score: 0.0397 - auc: 0.9229 - prc: 0.4679 - false_negatives_2: 24493.0000 - false_positives_2: 139324.0000 - mean_absolute_error: 0.0788 - true_negatives_2: 1390892.0000 - true_positives_2: 70891.0000 - val_loss: 0.1350 - val_sparse_categorical_accuracy: 0.9496 - val_Brier score: 0.0376 - val_auc: 0.9055 - val_prc: 0.3921 - val_false_negatives_2: 5892.0000 - val_false_positives_2: 33720.0000 - val_mean_absolute_error: 0.0732 - val_true_negatives_2: 338218.0000 - val_true_positives_2: 13850.0000\n",
      "Epoch 67/100\n",
      "4/4 [==============================] - 1s 190ms/step - loss: 0.1366 - sparse_categorical_accuracy: 0.9413 - Brier score: 0.0397 - auc: 0.9224 - prc: 0.4701 - false_negatives_2: 27165.0000 - false_positives_2: 126639.0000 - mean_absolute_error: 0.0762 - true_negatives_2: 1403577.0000 - true_positives_2: 68219.0000 - val_loss: 0.1351 - val_sparse_categorical_accuracy: 0.9496 - val_Brier score: 0.0379 - val_auc: 0.9062 - val_prc: 0.3921 - val_false_negatives_2: 5582.0000 - val_false_positives_2: 36095.0000 - val_mean_absolute_error: 0.0753 - val_true_negatives_2: 335843.0000 - val_true_positives_2: 14160.0000\n",
      "Epoch 68/100\n",
      "4/4 [==============================] - 1s 192ms/step - loss: 0.1361 - sparse_categorical_accuracy: 0.9413 - Brier score: 0.0397 - auc: 0.9234 - prc: 0.4690 - false_negatives_2: 23390.0000 - false_positives_2: 145376.0000 - mean_absolute_error: 0.0797 - true_negatives_2: 1384840.0000 - true_positives_2: 71994.0000 - val_loss: 0.1352 - val_sparse_categorical_accuracy: 0.9496 - val_Brier score: 0.0379 - val_auc: 0.9062 - val_prc: 0.3927 - val_false_negatives_2: 5482.0000 - val_false_positives_2: 36717.0000 - val_mean_absolute_error: 0.0758 - val_true_negatives_2: 335221.0000 - val_true_positives_2: 14260.0000\n",
      "Epoch 69/100\n",
      "4/4 [==============================] - 1s 203ms/step - loss: 0.1361 - sparse_categorical_accuracy: 0.9413 - Brier score: 0.0395 - auc: 0.9233 - prc: 0.4741 - false_negatives_2: 24157.0000 - false_positives_2: 141032.0000 - mean_absolute_error: 0.0786 - true_negatives_2: 1389184.0000 - true_positives_2: 71227.0000 - val_loss: 0.1348 - val_sparse_categorical_accuracy: 0.9496 - val_Brier score: 0.0376 - val_auc: 0.9054 - val_prc: 0.3938 - val_false_negatives_2: 5868.0000 - val_false_positives_2: 34012.0000 - val_mean_absolute_error: 0.0733 - val_true_negatives_2: 337926.0000 - val_true_positives_2: 13874.0000\n",
      "Epoch 70/100\n",
      "4/4 [==============================] - 1s 195ms/step - loss: 0.1367 - sparse_categorical_accuracy: 0.9413 - Brier score: 0.0400 - auc: 0.9229 - prc: 0.4629 - false_negatives_2: 26165.0000 - false_positives_2: 134463.0000 - mean_absolute_error: 0.0777 - true_negatives_2: 1395753.0000 - true_positives_2: 69219.0000 - val_loss: 0.1351 - val_sparse_categorical_accuracy: 0.9496 - val_Brier score: 0.0379 - val_auc: 0.9063 - val_prc: 0.3937 - val_false_negatives_2: 5547.0000 - val_false_positives_2: 36432.0000 - val_mean_absolute_error: 0.0757 - val_true_negatives_2: 335506.0000 - val_true_positives_2: 14195.0000\n",
      "Epoch 71/100\n",
      "4/4 [==============================] - 1s 196ms/step - loss: 0.1353 - sparse_categorical_accuracy: 0.9413 - Brier score: 0.0395 - auc: 0.9250 - prc: 0.4738 - false_negatives_2: 23427.0000 - false_positives_2: 142900.0000 - mean_absolute_error: 0.0789 - true_negatives_2: 1387316.0000 - true_positives_2: 71957.0000 - val_loss: 0.1359 - val_sparse_categorical_accuracy: 0.9496 - val_Brier score: 0.0381 - val_auc: 0.9060 - val_prc: 0.3945 - val_false_negatives_2: 5655.0000 - val_false_positives_2: 35523.0000 - val_mean_absolute_error: 0.0747 - val_true_negatives_2: 336415.0000 - val_true_positives_2: 14087.0000\n",
      "Epoch 72/100\n",
      "4/4 [==============================] - 1s 198ms/step - loss: 0.1366 - sparse_categorical_accuracy: 0.9413 - Brier score: 0.0399 - auc: 0.9231 - prc: 0.4648 - false_negatives_2: 25689.0000 - false_positives_2: 136251.0000 - mean_absolute_error: 0.0779 - true_negatives_2: 1393965.0000 - true_positives_2: 69695.0000 - val_loss: 0.1365 - val_sparse_categorical_accuracy: 0.9496 - val_Brier score: 0.0380 - val_auc: 0.9054 - val_prc: 0.3962 - val_false_negatives_2: 5773.0000 - val_false_positives_2: 34190.0000 - val_mean_absolute_error: 0.0733 - val_true_negatives_2: 337748.0000 - val_true_positives_2: 13969.0000\n",
      "Epoch 73/100\n",
      "4/4 [==============================] - 1s 194ms/step - loss: 0.1342 - sparse_categorical_accuracy: 0.9413 - Brier score: 0.0391 - auc: 0.9256 - prc: 0.4827 - false_negatives_2: 25614.0000 - false_positives_2: 126750.0000 - mean_absolute_error: 0.0751 - true_negatives_2: 1403466.0000 - true_positives_2: 69770.0000 - val_loss: 0.1360 - val_sparse_categorical_accuracy: 0.9496 - val_Brier score: 0.0379 - val_auc: 0.9052 - val_prc: 0.3960 - val_false_negatives_2: 5632.0000 - val_false_positives_2: 35365.0000 - val_mean_absolute_error: 0.0743 - val_true_negatives_2: 336573.0000 - val_true_positives_2: 14110.0000\n",
      "Epoch 74/100\n",
      "4/4 [==============================] - 1s 196ms/step - loss: 0.1345 - sparse_categorical_accuracy: 0.9413 - Brier score: 0.0393 - auc: 0.9260 - prc: 0.4791 - false_negatives_2: 24567.0000 - false_positives_2: 136110.0000 - mean_absolute_error: 0.0776 - true_negatives_2: 1394106.0000 - true_positives_2: 70817.0000 - val_loss: 0.1358 - val_sparse_categorical_accuracy: 0.9496 - val_Brier score: 0.0380 - val_auc: 0.9051 - val_prc: 0.3951 - val_false_negatives_2: 5510.0000 - val_false_positives_2: 36846.0000 - val_mean_absolute_error: 0.0757 - val_true_negatives_2: 335092.0000 - val_true_positives_2: 14232.0000\n",
      "Epoch 75/100\n",
      "4/4 [==============================] - 1s 200ms/step - loss: 0.1344 - sparse_categorical_accuracy: 0.9413 - Brier score: 0.0394 - auc: 0.9266 - prc: 0.4732 - false_negatives_2: 23853.0000 - false_positives_2: 137299.0000 - mean_absolute_error: 0.0777 - true_negatives_2: 1392917.0000 - true_positives_2: 71531.0000 - val_loss: 0.1359 - val_sparse_categorical_accuracy: 0.9496 - val_Brier score: 0.0379 - val_auc: 0.9054 - val_prc: 0.3959 - val_false_negatives_2: 5595.0000 - val_false_positives_2: 36163.0000 - val_mean_absolute_error: 0.0750 - val_true_negatives_2: 335775.0000 - val_true_positives_2: 14147.0000\n",
      "Epoch 76/100\n",
      "4/4 [==============================] - 1s 204ms/step - loss: 0.1330 - sparse_categorical_accuracy: 0.9413 - Brier score: 0.0391 - auc: 0.9288 - prc: 0.4790 - false_negatives_2: 22860.0000 - false_positives_2: 141981.0000 - mean_absolute_error: 0.0784 - true_negatives_2: 1388235.0000 - true_positives_2: 72524.0000 - val_loss: 0.1360 - val_sparse_categorical_accuracy: 0.9496 - val_Brier score: 0.0378 - val_auc: 0.9059 - val_prc: 0.3975 - val_false_negatives_2: 5628.0000 - val_false_positives_2: 35632.0000 - val_mean_absolute_error: 0.0743 - val_true_negatives_2: 336306.0000 - val_true_positives_2: 14114.0000\n"
     ]
    }
   ],
   "source": [
    "#Learn the model\n",
    "history = u_net.fit(train_ds, epochs=100, verbose=True, validation_data = val_ds,\n",
    "    callbacks=[early_stopping_cb, tensorboard_cb])"
   ]
  },
  {
   "cell_type": "code",
   "execution_count": 22,
   "id": "de5a2cfa",
   "metadata": {},
   "outputs": [
    {
     "name": "stdout",
     "output_type": "stream",
     "text": [
      "1/1 [==============================] - 0s 64ms/step - loss: 0.1353 - sparse_categorical_accuracy: 0.9496 - Brier score: 0.0380 - auc: 0.9056 - prc: 0.3892 - false_negatives_2: 5377.0000 - false_positives_2: 37296.0000 - mean_absolute_error: 0.0772 - true_negatives_2: 334642.0000 - true_positives_2: 14365.0000\n",
      "[0.13525579869747162, 0.9495965838432312, 0.03801508992910385, 0.9056456089019775, 0.3891534209251404, 5377.0, 37296.0, 0.07715847343206406, 334642.0, 14365.0]\n",
      "1/1 [==============================] - 0s 130ms/step\n",
      "1/1 [==============================] - 0s 80ms/step - loss: 0.1431 - sparse_categorical_accuracy: 0.9506 - Brier score: 0.0393 - auc: 0.8858 - prc: 0.3587 - false_negatives_2: 13517.0000 - false_positives_2: 94108.0000 - mean_absolute_error: 0.0826 - true_negatives_2: 735745.0000 - true_positives_2: 29590.0000\n",
      "4/4 [==============================] - 0s 30ms/step - loss: 0.1346 - sparse_categorical_accuracy: 0.9413 - Brier score: 0.0397 - auc: 0.9285 - prc: 0.4699 - false_negatives_2: 20114.0000 - false_positives_2: 160448.0000 - mean_absolute_error: 0.0833 - true_negatives_2: 1369768.0000 - true_positives_2: 75270.0000\n",
      "any_severe__36km_Rot_0_16_16_lrate_0.0001_spatial_dropout_0.15_i_2_filters_[64, 128, 256, 512]_size_[4, 3, 2, 2]_pool_[2, 2, 2, 2]_loss_binary_crossentropy\n"
     ]
    }
   ],
   "source": [
    "def save_results(args, u_net, history, train_ds, val_ds, test_ds):\n",
    "    fbase = f\"{args['target_column']}_Rot_{args['rotation']}_{args['shape'][0]}_{args['shape'][1]}_lrate_{args['lrate']}_spatial_dropout_{args['p_spatial_dropout']}_i_{args['i']}_filters_{args['filters']}_size_{args['size']}_pool_{args['pool']}_loss_{args['loss']}\"\n",
    "    results = {}\n",
    "    results['args'] = args\n",
    "    #results['predict_val'] = u_net.predict(val_ds)\n",
    "    results['predict_val_eval'] = u_net.evaluate(val_ds)\n",
    "    print(results['predict_val_eval'])\n",
    "\n",
    "    if test_ds is not None:\n",
    "        results['predict_test']=u_net.predict(test_ds)\n",
    "        results['predict_test_eval']=u_net.evaluate(test_ds)\n",
    "\n",
    "    #results['predict_train']=u_net.predict(train_ds)\n",
    "    results['predict_train_eval']=u_net.evaluate(train_ds)\n",
    "    results['history']=history.history\n",
    "    results['fname_base']=fbase\n",
    "\n",
    "    #Save results\n",
    "    with open(join(join(outdir, 'results'), f'{fbase}_results.pkl'),'wb') as fp:\n",
    "        pickle.dump(results, fp)\n",
    "\n",
    "    #save model\n",
    "    if False:\n",
    "        u_net.save(join(join(outdir, 'models'), f'{fbase}_model'))\n",
    "    #print(np.max(results['predict_test']))\n",
    "    #print(np.mean(results['predict_test']))\n",
    "    print(fbase)\n",
    "    return None\n",
    "save_results(args, u_net, history,  train_ds, val_ds, test_ds)"
   ]
  },
  {
   "cell_type": "code",
   "execution_count": null,
   "id": "9a91b46a-99d5-4378-93da-3cf391f64335",
   "metadata": {},
   "outputs": [],
   "source": [
    "#Hyperparam search\n",
    "from itertools import product\n",
    "for rotation, p_s, lrate, cs, i, loss in product([0,1], [0.01, 0.1], [0.01, 0.1], ([2,1,2,1],), (1,2), ['binary_crossentropy']):\n",
    "    X_train, y_train, mean, variance = load_rotation(join('/work/samuel.varga/data/2to6_hr_severe_wx/DEEP_LEARNING/',f'wofs_dl_severe__2to6hr__rot_{rotation}__training_data'), rotation, target_column)\n",
    "    X_val, y_val = load_rotation(join('/work/samuel.varga/data/2to6_hr_severe_wx/DEEP_LEARNING/',f'wofs_dl_severe__2to6hr__rot_{rotation}__validation_data'), rotation, target_column)\n",
    "    print(np.shape(X_train))\n",
    "    print(np.shape(y_train))\n",
    "    print(f'Validation Base Rate:{np.mean(y_val)}')\n",
    "    print(f'Validation non-event Rate:{1-np.mean(y_val)}')\n",
    "    #Convert to tf dataset\n",
    "    train_ds = convert_to_tf((X_train,np.expand_dims(y_train, axis=-1)), batch_size)\n",
    "    val_ds = convert_to_tf((X_val,np.expand_dims(y_val, axis=-1)), batch_size)\n",
    "    \n",
    "    #U-net architectural parameters\n",
    "    conv_filters=[n*i for n in [32,64,128,256]]\n",
    "    max_pool=[2,2,2,2]\n",
    "    conv_layers =[{'filters': f, 'kernel_size': (s), 'pool_size': (p), 'strides': (p)} if p > 1\n",
    "                       else {'filters': f, 'kernel_size': (s), 'pool_size': None, 'strides': None}\n",
    "                       for s, f, p, in zip(cs, conv_filters, max_pool)]\n",
    "    args={'lrate':lrate, 'loss':loss,'activation_conv':'relu','activation_out':'sigmoid',\n",
    "         'p_spatial_dropout':p_s, 'filters':conv_filters, 'size':cs, 'pool':max_pool, 'shape':(16,16),\n",
    "         'rotation':rotation,'target_column':target_column, 'i':i}\n",
    "##\n",
    "    #create u-net\n",
    "    #Pick better loss/activation functions\n",
    "    u_net = create_U_net_classifier_2D(image_size=args['shape'], nchannels=63, n_classes=1, conv_layers=conv_layers, p_spatial_dropout=args['p_spatial_dropout'], metrics=metrics,\n",
    "                               lrate=args['lrate'], loss=args['loss'], activation_conv=args['activation_conv'], activation_out=args['activation_out'],\n",
    "                                      normalization=(mean, variance))\n",
    "##\n",
    "    early_stopping_cb =keras.callbacks.EarlyStopping(patience=30, restore_best_weights=True,\n",
    "                                                    min_delta=0.001, monitor='val_loss')\n",
    "    tensorboard_cb= keras.callbacks.TensorBoard(log_dir=join(outdir,f'logs/Rot_{rotation}_p_s_{p_s}_lrate_{lrate}_cs_{cs}_i_{i}_loss_{loss}'), histogram_freq=1)\n",
    "    history = u_net.fit(train_ds, epochs=100, verbose=True, validation_data = val_ds,\n",
    "        callbacks=[early_stopping_cb, tensorboard_cb])\n",
    "    \n",
    "    #save_results(args, u_net, history, train_ds, val_ds, test_ds)"
   ]
  },
  {
   "cell_type": "code",
   "execution_count": 7,
   "id": "ac44f8a9",
   "metadata": {},
   "outputs": [],
   "source": [
    "K.clear_session()\n",
    "gc.collect()\n",
    "#gpu = cuda.get_current_device()\n",
    "#gpu.reset()\n",
    "cuda.close()"
   ]
  },
  {
   "cell_type": "code",
   "execution_count": null,
   "id": "216b9d92",
   "metadata": {},
   "outputs": [],
   "source": []
  }
 ],
 "metadata": {
  "kernelspec": {
   "display_name": "tf",
   "language": "python",
   "name": "tf"
  },
  "language_info": {
   "codemirror_mode": {
    "name": "ipython",
    "version": 3
   },
   "file_extension": ".py",
   "mimetype": "text/x-python",
   "name": "python",
   "nbconvert_exporter": "python",
   "pygments_lexer": "ipython3",
   "version": "3.10.13"
  }
 },
 "nbformat": 4,
 "nbformat_minor": 5
}
